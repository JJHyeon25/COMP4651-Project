{
  "nbformat": 4,
  "nbformat_minor": 0,
  "metadata": {
    "colab": {
      "provenance": []
    },
    "kernelspec": {
      "name": "python3",
      "display_name": "Python 3"
    },
    "language_info": {
      "name": "python"
    }
  },
  "cells": [
    {
      "cell_type": "markdown",
      "source": [
        "### 1. Initiate Spark environment"
      ],
      "metadata": {
        "id": "c05zFmsG66hT"
      }
    },
    {
      "cell_type": "code",
      "source": [
        "!pip install pyspark"
      ],
      "metadata": {
        "colab": {
          "base_uri": "https://localhost:8080/"
        },
        "id": "OxY5USiK4xf8",
        "outputId": "94d01b11-2780-4b86-88bc-388313bf5ef9"
      },
      "execution_count": null,
      "outputs": [
        {
          "output_type": "stream",
          "name": "stdout",
          "text": [
            "Looking in indexes: https://pypi.org/simple, https://us-python.pkg.dev/colab-wheels/public/simple/\n",
            "Collecting pyspark\n",
            "  Downloading pyspark-3.4.0.tar.gz (310.8 MB)\n",
            "\u001b[2K     \u001b[90m━━━━━━━━━━━━━━━━━━━━━━━━━━━━━━━━━━━━━━━\u001b[0m \u001b[32m310.8/310.8 MB\u001b[0m \u001b[31m4.3 MB/s\u001b[0m eta \u001b[36m0:00:00\u001b[0m\n",
            "\u001b[?25h  Preparing metadata (setup.py) ... \u001b[?25l\u001b[?25hdone\n",
            "Requirement already satisfied: py4j==0.10.9.7 in /usr/local/lib/python3.10/dist-packages (from pyspark) (0.10.9.7)\n",
            "Building wheels for collected packages: pyspark\n",
            "  Building wheel for pyspark (setup.py) ... \u001b[?25l\u001b[?25hdone\n",
            "  Created wheel for pyspark: filename=pyspark-3.4.0-py2.py3-none-any.whl size=311317130 sha256=2f2fef10c806d35ff037345d0cd466b99e30410dec12433211121a56156ccf4c\n",
            "  Stored in directory: /root/.cache/pip/wheels/7b/1b/4b/3363a1d04368e7ff0d408e57ff57966fcdf00583774e761327\n",
            "Successfully built pyspark\n",
            "Installing collected packages: pyspark\n",
            "Successfully installed pyspark-3.4.0\n"
          ]
        }
      ]
    },
    {
      "cell_type": "code",
      "source": [
        "# Basic Library\n",
        "import numpy as np\n",
        "import pandas as pd\n",
        "import matplotlib.pyplot as plt\n",
        "import seaborn as sns\n",
        "import sklearn\n",
        "import random\n",
        "import os\n",
        "from sklearn.preprocessing import LabelEncoder\n",
        "from sklearn.metrics import mean_absolute_error\n",
        "import warnings\n",
        "warnings.filterwarnings('ignore')\n",
        "from scipy import stats\n",
        "from scipy.stats import norm, skew \n",
        "\n",
        "# Spark Library\n",
        "from pyspark import SparkConf, SparkContext\n",
        "from pyspark.sql import SparkSession\n",
        "from pyspark.ml import Pipeline\n",
        "from pyspark.sql import SQLContext, Window\n",
        "from pyspark.sql.types import *\n",
        "import pyspark.sql.functions as F\n",
        "from pyspark.sql.functions import mean, col, split,regexp_extract, when, lit,max,min,isnan,count, desc,var_samp,avg, udf\n",
        "from pyspark.ml.feature import StringIndexer, VectorAssembler,StandardScaler\n",
        "# StringIndexer: mapping of string column of label to an ML column of label indice\n",
        "# VectorAssembler: merge multiple column vector to single column\n",
        "from pyspark.ml.evaluation import MulticlassClassificationEvaluator\n",
        "from pyspark.ml.feature import QuantileDiscretizer\n",
        "from pyspark.ml.stat import Correlation\n",
        "from pyspark.ml.regression import LinearRegression\n",
        "from pyspark.ml.tuning import ParamGridBuilder, CrossValidator, CrossValidatorModel\n",
        "from pyspark.ml.evaluation import RegressionEvaluator"
      ],
      "metadata": {
        "id": "JkotzBrc5y8d"
      },
      "execution_count": null,
      "outputs": []
    },
    {
      "cell_type": "code",
      "source": [
        "spark_session = SparkSession.builder.master(\"local[2]\").appName(\"HousingRegression\").getOrCreate()"
      ],
      "metadata": {
        "id": "pi1ahKph44u3"
      },
      "execution_count": null,
      "outputs": []
    },
    {
      "cell_type": "code",
      "source": [
        "spark_context = spark_session.sparkContext"
      ],
      "metadata": {
        "id": "MkIcxJfa465R"
      },
      "execution_count": null,
      "outputs": []
    },
    {
      "cell_type": "code",
      "source": [
        "spark_sql_context = SQLContext(spark_context)"
      ],
      "metadata": {
        "id": "VfCeDMRe481e"
      },
      "execution_count": null,
      "outputs": []
    },
    {
      "cell_type": "markdown",
      "source": [
        "### 2. Loading data & EDA"
      ],
      "metadata": {
        "id": "hphsIEkx8Xjj"
      }
    },
    {
      "cell_type": "code",
      "source": [
        " from google.colab import drive\n",
        " drive.mount(\"/content/drive\")\n",
        " %cd \"drive/MyDrive/ColabNotebooks/comp4651_proj\""
      ],
      "metadata": {
        "id": "93pRYhX6GxqH",
        "colab": {
          "base_uri": "https://localhost:8080/"
        },
        "outputId": "9a7acaa1-6db6-4e27-c8f9-e051383cfac0"
      },
      "execution_count": null,
      "outputs": [
        {
          "output_type": "stream",
          "name": "stdout",
          "text": [
            "Mounted at /content/drive\n",
            "/content/drive/MyDrive/ColabNotebooks/comp4651_proj\n"
          ]
        }
      ]
    },
    {
      "cell_type": "markdown",
      "source": [
        "Use pandas to handle the missing data and create visualizations."
      ],
      "metadata": {
        "id": "l7IHLt6n8hFT"
      }
    },
    {
      "cell_type": "code",
      "source": [
        "pd_train = pd.read_csv('train.csv')\n",
        "pd_test = pd.read_csv('test.csv')\n",
        "na_cols = pd_train.columns[pd_train.isna().any()].tolist()"
      ],
      "metadata": {
        "id": "LqxQsrPv5Ay7"
      },
      "execution_count": null,
      "outputs": []
    },
    {
      "cell_type": "markdown",
      "source": [
        "Building correlation matrix\n",
        "\n",
        "The correlation coefficient is a measure of the strength and direction of the linear relationship between two variables.\n",
        "\n",
        "The values in a correlation matrix range from -1 to 1. A value of 1 indicates a perfect positive correlation.  A value of -1 indicates a perfect negative correlation"
      ],
      "metadata": {
        "id": "QtNxhij_9mrn"
      }
    },
    {
      "cell_type": "code",
      "source": [
        "corr = pd_train.corr()"
      ],
      "metadata": {
        "id": "U9adA7AYEfGi"
      },
      "execution_count": null,
      "outputs": []
    },
    {
      "cell_type": "code",
      "source": [
        "corr[['SalePrice']].sort_values(by='SalePrice',ascending=False).style.background_gradient(cmap='viridis', axis=None)"
      ],
      "metadata": {
        "colab": {
          "base_uri": "https://localhost:8080/",
          "height": 1000
        },
        "id": "ZerXJc0SEhbX",
        "outputId": "f08737aa-97c1-4e25-fea5-c37ef94b15c2"
      },
      "execution_count": null,
      "outputs": [
        {
          "output_type": "execute_result",
          "data": {
            "text/plain": [
              "<pandas.io.formats.style.Styler at 0x7f76c0a80b80>"
            ],
            "text/html": [
              "<style type=\"text/css\">\n",
              "#T_222b9_row0_col0 {\n",
              "  background-color: #fde725;\n",
              "  color: #000000;\n",
              "}\n",
              "#T_222b9_row1_col0 {\n",
              "  background-color: #84d44b;\n",
              "  color: #000000;\n",
              "}\n",
              "#T_222b9_row2_col0 {\n",
              "  background-color: #5ac864;\n",
              "  color: #000000;\n",
              "}\n",
              "#T_222b9_row3_col0 {\n",
              "  background-color: #3bbb75;\n",
              "  color: #f1f1f1;\n",
              "}\n",
              "#T_222b9_row4_col0 {\n",
              "  background-color: #37b878;\n",
              "  color: #f1f1f1;\n",
              "}\n",
              "#T_222b9_row5_col0 {\n",
              "  background-color: #32b67a;\n",
              "  color: #f1f1f1;\n",
              "}\n",
              "#T_222b9_row6_col0 {\n",
              "  background-color: #31b57b;\n",
              "  color: #f1f1f1;\n",
              "}\n",
              "#T_222b9_row7_col0 {\n",
              "  background-color: #25ab82;\n",
              "  color: #f1f1f1;\n",
              "}\n",
              "#T_222b9_row8_col0 {\n",
              "  background-color: #21a585;\n",
              "  color: #f1f1f1;\n",
              "}\n",
              "#T_222b9_row9_col0 {\n",
              "  background-color: #20a386;\n",
              "  color: #f1f1f1;\n",
              "}\n",
              "#T_222b9_row10_col0 {\n",
              "  background-color: #1fa088;\n",
              "  color: #f1f1f1;\n",
              "}\n",
              "#T_222b9_row11_col0 {\n",
              "  background-color: #1e9c89;\n",
              "  color: #f1f1f1;\n",
              "}\n",
              "#T_222b9_row12_col0 {\n",
              "  background-color: #1f9a8a;\n",
              "  color: #f1f1f1;\n",
              "}\n",
              "#T_222b9_row13_col0 {\n",
              "  background-color: #1f978b;\n",
              "  color: #f1f1f1;\n",
              "}\n",
              "#T_222b9_row14_col0 {\n",
              "  background-color: #24868e;\n",
              "  color: #f1f1f1;\n",
              "}\n",
              "#T_222b9_row15_col0 {\n",
              "  background-color: #277f8e;\n",
              "  color: #f1f1f1;\n",
              "}\n",
              "#T_222b9_row16_col0 {\n",
              "  background-color: #29798e;\n",
              "  color: #f1f1f1;\n",
              "}\n",
              "#T_222b9_row17_col0 {\n",
              "  background-color: #2a788e;\n",
              "  color: #f1f1f1;\n",
              "}\n",
              "#T_222b9_row18_col0 {\n",
              "  background-color: #2a778e;\n",
              "  color: #f1f1f1;\n",
              "}\n",
              "#T_222b9_row19_col0 {\n",
              "  background-color: #2d718e;\n",
              "  color: #f1f1f1;\n",
              "}\n",
              "#T_222b9_row20_col0 {\n",
              "  background-color: #2e6d8e;\n",
              "  color: #f1f1f1;\n",
              "}\n",
              "#T_222b9_row21_col0 {\n",
              "  background-color: #32648e;\n",
              "  color: #f1f1f1;\n",
              "}\n",
              "#T_222b9_row22_col0 {\n",
              "  background-color: #34618d;\n",
              "  color: #f1f1f1;\n",
              "}\n",
              "#T_222b9_row23_col0 {\n",
              "  background-color: #39568c;\n",
              "  color: #f1f1f1;\n",
              "}\n",
              "#T_222b9_row24_col0 {\n",
              "  background-color: #3f4889;\n",
              "  color: #f1f1f1;\n",
              "}\n",
              "#T_222b9_row25_col0 {\n",
              "  background-color: #414487;\n",
              "  color: #f1f1f1;\n",
              "}\n",
              "#T_222b9_row26_col0 {\n",
              "  background-color: #453882;\n",
              "  color: #f1f1f1;\n",
              "}\n",
              "#T_222b9_row27_col0 {\n",
              "  background-color: #453781;\n",
              "  color: #f1f1f1;\n",
              "}\n",
              "#T_222b9_row28_col0 {\n",
              "  background-color: #482878;\n",
              "  color: #f1f1f1;\n",
              "}\n",
              "#T_222b9_row29_col0 {\n",
              "  background-color: #482576;\n",
              "  color: #f1f1f1;\n",
              "}\n",
              "#T_222b9_row30_col0, #T_222b9_row31_col0 {\n",
              "  background-color: #482475;\n",
              "  color: #f1f1f1;\n",
              "}\n",
              "#T_222b9_row32_col0, #T_222b9_row33_col0 {\n",
              "  background-color: #482374;\n",
              "  color: #f1f1f1;\n",
              "}\n",
              "#T_222b9_row34_col0 {\n",
              "  background-color: #481467;\n",
              "  color: #f1f1f1;\n",
              "}\n",
              "#T_222b9_row35_col0 {\n",
              "  background-color: #471164;\n",
              "  color: #f1f1f1;\n",
              "}\n",
              "#T_222b9_row36_col0 {\n",
              "  background-color: #440256;\n",
              "  color: #f1f1f1;\n",
              "}\n",
              "#T_222b9_row37_col0 {\n",
              "  background-color: #440154;\n",
              "  color: #f1f1f1;\n",
              "}\n",
              "</style>\n",
              "<table id=\"T_222b9\" class=\"dataframe\">\n",
              "  <thead>\n",
              "    <tr>\n",
              "      <th class=\"blank level0\" >&nbsp;</th>\n",
              "      <th id=\"T_222b9_level0_col0\" class=\"col_heading level0 col0\" >SalePrice</th>\n",
              "    </tr>\n",
              "  </thead>\n",
              "  <tbody>\n",
              "    <tr>\n",
              "      <th id=\"T_222b9_level0_row0\" class=\"row_heading level0 row0\" >SalePrice</th>\n",
              "      <td id=\"T_222b9_row0_col0\" class=\"data row0 col0\" >1.000000</td>\n",
              "    </tr>\n",
              "    <tr>\n",
              "      <th id=\"T_222b9_level0_row1\" class=\"row_heading level0 row1\" >OverallQual</th>\n",
              "      <td id=\"T_222b9_row1_col0\" class=\"data row1 col0\" >0.790982</td>\n",
              "    </tr>\n",
              "    <tr>\n",
              "      <th id=\"T_222b9_level0_row2\" class=\"row_heading level0 row2\" >GrLivArea</th>\n",
              "      <td id=\"T_222b9_row2_col0\" class=\"data row2 col0\" >0.708624</td>\n",
              "    </tr>\n",
              "    <tr>\n",
              "      <th id=\"T_222b9_level0_row3\" class=\"row_heading level0 row3\" >GarageCars</th>\n",
              "      <td id=\"T_222b9_row3_col0\" class=\"data row3 col0\" >0.640409</td>\n",
              "    </tr>\n",
              "    <tr>\n",
              "      <th id=\"T_222b9_level0_row4\" class=\"row_heading level0 row4\" >GarageArea</th>\n",
              "      <td id=\"T_222b9_row4_col0\" class=\"data row4 col0\" >0.623431</td>\n",
              "    </tr>\n",
              "    <tr>\n",
              "      <th id=\"T_222b9_level0_row5\" class=\"row_heading level0 row5\" >TotalBsmtSF</th>\n",
              "      <td id=\"T_222b9_row5_col0\" class=\"data row5 col0\" >0.613581</td>\n",
              "    </tr>\n",
              "    <tr>\n",
              "      <th id=\"T_222b9_level0_row6\" class=\"row_heading level0 row6\" >1stFlrSF</th>\n",
              "      <td id=\"T_222b9_row6_col0\" class=\"data row6 col0\" >0.605852</td>\n",
              "    </tr>\n",
              "    <tr>\n",
              "      <th id=\"T_222b9_level0_row7\" class=\"row_heading level0 row7\" >FullBath</th>\n",
              "      <td id=\"T_222b9_row7_col0\" class=\"data row7 col0\" >0.560664</td>\n",
              "    </tr>\n",
              "    <tr>\n",
              "      <th id=\"T_222b9_level0_row8\" class=\"row_heading level0 row8\" >TotRmsAbvGrd</th>\n",
              "      <td id=\"T_222b9_row8_col0\" class=\"data row8 col0\" >0.533723</td>\n",
              "    </tr>\n",
              "    <tr>\n",
              "      <th id=\"T_222b9_level0_row9\" class=\"row_heading level0 row9\" >YearBuilt</th>\n",
              "      <td id=\"T_222b9_row9_col0\" class=\"data row9 col0\" >0.522897</td>\n",
              "    </tr>\n",
              "    <tr>\n",
              "      <th id=\"T_222b9_level0_row10\" class=\"row_heading level0 row10\" >YearRemodAdd</th>\n",
              "      <td id=\"T_222b9_row10_col0\" class=\"data row10 col0\" >0.507101</td>\n",
              "    </tr>\n",
              "    <tr>\n",
              "      <th id=\"T_222b9_level0_row11\" class=\"row_heading level0 row11\" >GarageYrBlt</th>\n",
              "      <td id=\"T_222b9_row11_col0\" class=\"data row11 col0\" >0.486362</td>\n",
              "    </tr>\n",
              "    <tr>\n",
              "      <th id=\"T_222b9_level0_row12\" class=\"row_heading level0 row12\" >MasVnrArea</th>\n",
              "      <td id=\"T_222b9_row12_col0\" class=\"data row12 col0\" >0.477493</td>\n",
              "    </tr>\n",
              "    <tr>\n",
              "      <th id=\"T_222b9_level0_row13\" class=\"row_heading level0 row13\" >Fireplaces</th>\n",
              "      <td id=\"T_222b9_row13_col0\" class=\"data row13 col0\" >0.466929</td>\n",
              "    </tr>\n",
              "    <tr>\n",
              "      <th id=\"T_222b9_level0_row14\" class=\"row_heading level0 row14\" >BsmtFinSF1</th>\n",
              "      <td id=\"T_222b9_row14_col0\" class=\"data row14 col0\" >0.386420</td>\n",
              "    </tr>\n",
              "    <tr>\n",
              "      <th id=\"T_222b9_level0_row15\" class=\"row_heading level0 row15\" >LotFrontage</th>\n",
              "      <td id=\"T_222b9_row15_col0\" class=\"data row15 col0\" >0.351799</td>\n",
              "    </tr>\n",
              "    <tr>\n",
              "      <th id=\"T_222b9_level0_row16\" class=\"row_heading level0 row16\" >WoodDeckSF</th>\n",
              "      <td id=\"T_222b9_row16_col0\" class=\"data row16 col0\" >0.324413</td>\n",
              "    </tr>\n",
              "    <tr>\n",
              "      <th id=\"T_222b9_level0_row17\" class=\"row_heading level0 row17\" >2ndFlrSF</th>\n",
              "      <td id=\"T_222b9_row17_col0\" class=\"data row17 col0\" >0.319334</td>\n",
              "    </tr>\n",
              "    <tr>\n",
              "      <th id=\"T_222b9_level0_row18\" class=\"row_heading level0 row18\" >OpenPorchSF</th>\n",
              "      <td id=\"T_222b9_row18_col0\" class=\"data row18 col0\" >0.315856</td>\n",
              "    </tr>\n",
              "    <tr>\n",
              "      <th id=\"T_222b9_level0_row19\" class=\"row_heading level0 row19\" >HalfBath</th>\n",
              "      <td id=\"T_222b9_row19_col0\" class=\"data row19 col0\" >0.284108</td>\n",
              "    </tr>\n",
              "    <tr>\n",
              "      <th id=\"T_222b9_level0_row20\" class=\"row_heading level0 row20\" >LotArea</th>\n",
              "      <td id=\"T_222b9_row20_col0\" class=\"data row20 col0\" >0.263843</td>\n",
              "    </tr>\n",
              "    <tr>\n",
              "      <th id=\"T_222b9_level0_row21\" class=\"row_heading level0 row21\" >BsmtFullBath</th>\n",
              "      <td id=\"T_222b9_row21_col0\" class=\"data row21 col0\" >0.227122</td>\n",
              "    </tr>\n",
              "    <tr>\n",
              "      <th id=\"T_222b9_level0_row22\" class=\"row_heading level0 row22\" >BsmtUnfSF</th>\n",
              "      <td id=\"T_222b9_row22_col0\" class=\"data row22 col0\" >0.214479</td>\n",
              "    </tr>\n",
              "    <tr>\n",
              "      <th id=\"T_222b9_level0_row23\" class=\"row_heading level0 row23\" >BedroomAbvGr</th>\n",
              "      <td id=\"T_222b9_row23_col0\" class=\"data row23 col0\" >0.168213</td>\n",
              "    </tr>\n",
              "    <tr>\n",
              "      <th id=\"T_222b9_level0_row24\" class=\"row_heading level0 row24\" >ScreenPorch</th>\n",
              "      <td id=\"T_222b9_row24_col0\" class=\"data row24 col0\" >0.111447</td>\n",
              "    </tr>\n",
              "    <tr>\n",
              "      <th id=\"T_222b9_level0_row25\" class=\"row_heading level0 row25\" >PoolArea</th>\n",
              "      <td id=\"T_222b9_row25_col0\" class=\"data row25 col0\" >0.092404</td>\n",
              "    </tr>\n",
              "    <tr>\n",
              "      <th id=\"T_222b9_level0_row26\" class=\"row_heading level0 row26\" >MoSold</th>\n",
              "      <td id=\"T_222b9_row26_col0\" class=\"data row26 col0\" >0.046432</td>\n",
              "    </tr>\n",
              "    <tr>\n",
              "      <th id=\"T_222b9_level0_row27\" class=\"row_heading level0 row27\" >3SsnPorch</th>\n",
              "      <td id=\"T_222b9_row27_col0\" class=\"data row27 col0\" >0.044584</td>\n",
              "    </tr>\n",
              "    <tr>\n",
              "      <th id=\"T_222b9_level0_row28\" class=\"row_heading level0 row28\" >BsmtFinSF2</th>\n",
              "      <td id=\"T_222b9_row28_col0\" class=\"data row28 col0\" >-0.011378</td>\n",
              "    </tr>\n",
              "    <tr>\n",
              "      <th id=\"T_222b9_level0_row29\" class=\"row_heading level0 row29\" >BsmtHalfBath</th>\n",
              "      <td id=\"T_222b9_row29_col0\" class=\"data row29 col0\" >-0.016844</td>\n",
              "    </tr>\n",
              "    <tr>\n",
              "      <th id=\"T_222b9_level0_row30\" class=\"row_heading level0 row30\" >MiscVal</th>\n",
              "      <td id=\"T_222b9_row30_col0\" class=\"data row30 col0\" >-0.021190</td>\n",
              "    </tr>\n",
              "    <tr>\n",
              "      <th id=\"T_222b9_level0_row31\" class=\"row_heading level0 row31\" >Id</th>\n",
              "      <td id=\"T_222b9_row31_col0\" class=\"data row31 col0\" >-0.021917</td>\n",
              "    </tr>\n",
              "    <tr>\n",
              "      <th id=\"T_222b9_level0_row32\" class=\"row_heading level0 row32\" >LowQualFinSF</th>\n",
              "      <td id=\"T_222b9_row32_col0\" class=\"data row32 col0\" >-0.025606</td>\n",
              "    </tr>\n",
              "    <tr>\n",
              "      <th id=\"T_222b9_level0_row33\" class=\"row_heading level0 row33\" >YrSold</th>\n",
              "      <td id=\"T_222b9_row33_col0\" class=\"data row33 col0\" >-0.028923</td>\n",
              "    </tr>\n",
              "    <tr>\n",
              "      <th id=\"T_222b9_level0_row34\" class=\"row_heading level0 row34\" >OverallCond</th>\n",
              "      <td id=\"T_222b9_row34_col0\" class=\"data row34 col0\" >-0.077856</td>\n",
              "    </tr>\n",
              "    <tr>\n",
              "      <th id=\"T_222b9_level0_row35\" class=\"row_heading level0 row35\" >MSSubClass</th>\n",
              "      <td id=\"T_222b9_row35_col0\" class=\"data row35 col0\" >-0.084284</td>\n",
              "    </tr>\n",
              "    <tr>\n",
              "      <th id=\"T_222b9_level0_row36\" class=\"row_heading level0 row36\" >EnclosedPorch</th>\n",
              "      <td id=\"T_222b9_row36_col0\" class=\"data row36 col0\" >-0.128578</td>\n",
              "    </tr>\n",
              "    <tr>\n",
              "      <th id=\"T_222b9_level0_row37\" class=\"row_heading level0 row37\" >KitchenAbvGr</th>\n",
              "      <td id=\"T_222b9_row37_col0\" class=\"data row37 col0\" >-0.135907</td>\n",
              "    </tr>\n",
              "  </tbody>\n",
              "</table>\n"
            ]
          },
          "metadata": {},
          "execution_count": 9
        }
      ]
    },
    {
      "cell_type": "markdown",
      "source": [
        "### Creating Spark DataFrames"
      ],
      "metadata": {
        "id": "vkYBTW0-_Pz0"
      }
    },
    {
      "cell_type": "code",
      "source": [
        "train_df = spark_session.createDataFrame(pd_train)\n",
        "test_df = spark_session.createDataFrame(pd_test)"
      ],
      "metadata": {
        "id": "MP33FqNdFFgB"
      },
      "execution_count": null,
      "outputs": []
    },
    {
      "cell_type": "markdown",
      "source": [
        "### Handling missing data:\n",
        "determining the proportion of missing data from overall dataset."
      ],
      "metadata": {
        "id": "38Bn3gnf-op6"
      }
    },
    {
      "cell_type": "code",
      "source": [
        "total = pd_train.isnull().sum().sort_values(ascending=False)\n",
        "percent = (pd_train.isnull().sum()/pd_train.shape[0]).sort_values(ascending=False)\n",
        "\n",
        "missing = pd.concat([total, percent], axis=1, keys=['Total', 'Perc_missing'])\n",
        "missing.head(15)"
      ],
      "metadata": {
        "colab": {
          "base_uri": "https://localhost:8080/",
          "height": 520
        },
        "id": "lMfZr-hWyKpT",
        "outputId": "e449e3ec-4be7-4ea7-c92d-755a43ea108a"
      },
      "execution_count": null,
      "outputs": [
        {
          "output_type": "execute_result",
          "data": {
            "text/plain": [
              "              Total  Perc_missing\n",
              "PoolQC         1453      0.995205\n",
              "MiscFeature    1406      0.963014\n",
              "Alley          1369      0.937671\n",
              "Fence          1179      0.807534\n",
              "FireplaceQu     690      0.472603\n",
              "LotFrontage     259      0.177397\n",
              "GarageYrBlt      81      0.055479\n",
              "GarageCond       81      0.055479\n",
              "GarageType       81      0.055479\n",
              "GarageFinish     81      0.055479\n",
              "GarageQual       81      0.055479\n",
              "BsmtFinType2     38      0.026027\n",
              "BsmtExposure     38      0.026027\n",
              "BsmtQual         37      0.025342\n",
              "BsmtCond         37      0.025342"
            ],
            "text/html": [
              "\n",
              "  <div id=\"df-0caf3b89-e93c-4578-aa83-26d5a4a53f85\">\n",
              "    <div class=\"colab-df-container\">\n",
              "      <div>\n",
              "<style scoped>\n",
              "    .dataframe tbody tr th:only-of-type {\n",
              "        vertical-align: middle;\n",
              "    }\n",
              "\n",
              "    .dataframe tbody tr th {\n",
              "        vertical-align: top;\n",
              "    }\n",
              "\n",
              "    .dataframe thead th {\n",
              "        text-align: right;\n",
              "    }\n",
              "</style>\n",
              "<table border=\"1\" class=\"dataframe\">\n",
              "  <thead>\n",
              "    <tr style=\"text-align: right;\">\n",
              "      <th></th>\n",
              "      <th>Total</th>\n",
              "      <th>Perc_missing</th>\n",
              "    </tr>\n",
              "  </thead>\n",
              "  <tbody>\n",
              "    <tr>\n",
              "      <th>PoolQC</th>\n",
              "      <td>1453</td>\n",
              "      <td>0.995205</td>\n",
              "    </tr>\n",
              "    <tr>\n",
              "      <th>MiscFeature</th>\n",
              "      <td>1406</td>\n",
              "      <td>0.963014</td>\n",
              "    </tr>\n",
              "    <tr>\n",
              "      <th>Alley</th>\n",
              "      <td>1369</td>\n",
              "      <td>0.937671</td>\n",
              "    </tr>\n",
              "    <tr>\n",
              "      <th>Fence</th>\n",
              "      <td>1179</td>\n",
              "      <td>0.807534</td>\n",
              "    </tr>\n",
              "    <tr>\n",
              "      <th>FireplaceQu</th>\n",
              "      <td>690</td>\n",
              "      <td>0.472603</td>\n",
              "    </tr>\n",
              "    <tr>\n",
              "      <th>LotFrontage</th>\n",
              "      <td>259</td>\n",
              "      <td>0.177397</td>\n",
              "    </tr>\n",
              "    <tr>\n",
              "      <th>GarageYrBlt</th>\n",
              "      <td>81</td>\n",
              "      <td>0.055479</td>\n",
              "    </tr>\n",
              "    <tr>\n",
              "      <th>GarageCond</th>\n",
              "      <td>81</td>\n",
              "      <td>0.055479</td>\n",
              "    </tr>\n",
              "    <tr>\n",
              "      <th>GarageType</th>\n",
              "      <td>81</td>\n",
              "      <td>0.055479</td>\n",
              "    </tr>\n",
              "    <tr>\n",
              "      <th>GarageFinish</th>\n",
              "      <td>81</td>\n",
              "      <td>0.055479</td>\n",
              "    </tr>\n",
              "    <tr>\n",
              "      <th>GarageQual</th>\n",
              "      <td>81</td>\n",
              "      <td>0.055479</td>\n",
              "    </tr>\n",
              "    <tr>\n",
              "      <th>BsmtFinType2</th>\n",
              "      <td>38</td>\n",
              "      <td>0.026027</td>\n",
              "    </tr>\n",
              "    <tr>\n",
              "      <th>BsmtExposure</th>\n",
              "      <td>38</td>\n",
              "      <td>0.026027</td>\n",
              "    </tr>\n",
              "    <tr>\n",
              "      <th>BsmtQual</th>\n",
              "      <td>37</td>\n",
              "      <td>0.025342</td>\n",
              "    </tr>\n",
              "    <tr>\n",
              "      <th>BsmtCond</th>\n",
              "      <td>37</td>\n",
              "      <td>0.025342</td>\n",
              "    </tr>\n",
              "  </tbody>\n",
              "</table>\n",
              "</div>\n",
              "      <button class=\"colab-df-convert\" onclick=\"convertToInteractive('df-0caf3b89-e93c-4578-aa83-26d5a4a53f85')\"\n",
              "              title=\"Convert this dataframe to an interactive table.\"\n",
              "              style=\"display:none;\">\n",
              "        \n",
              "  <svg xmlns=\"http://www.w3.org/2000/svg\" height=\"24px\"viewBox=\"0 0 24 24\"\n",
              "       width=\"24px\">\n",
              "    <path d=\"M0 0h24v24H0V0z\" fill=\"none\"/>\n",
              "    <path d=\"M18.56 5.44l.94 2.06.94-2.06 2.06-.94-2.06-.94-.94-2.06-.94 2.06-2.06.94zm-11 1L8.5 8.5l.94-2.06 2.06-.94-2.06-.94L8.5 2.5l-.94 2.06-2.06.94zm10 10l.94 2.06.94-2.06 2.06-.94-2.06-.94-.94-2.06-.94 2.06-2.06.94z\"/><path d=\"M17.41 7.96l-1.37-1.37c-.4-.4-.92-.59-1.43-.59-.52 0-1.04.2-1.43.59L10.3 9.45l-7.72 7.72c-.78.78-.78 2.05 0 2.83L4 21.41c.39.39.9.59 1.41.59.51 0 1.02-.2 1.41-.59l7.78-7.78 2.81-2.81c.8-.78.8-2.07 0-2.86zM5.41 20L4 18.59l7.72-7.72 1.47 1.35L5.41 20z\"/>\n",
              "  </svg>\n",
              "      </button>\n",
              "      \n",
              "  <style>\n",
              "    .colab-df-container {\n",
              "      display:flex;\n",
              "      flex-wrap:wrap;\n",
              "      gap: 12px;\n",
              "    }\n",
              "\n",
              "    .colab-df-convert {\n",
              "      background-color: #E8F0FE;\n",
              "      border: none;\n",
              "      border-radius: 50%;\n",
              "      cursor: pointer;\n",
              "      display: none;\n",
              "      fill: #1967D2;\n",
              "      height: 32px;\n",
              "      padding: 0 0 0 0;\n",
              "      width: 32px;\n",
              "    }\n",
              "\n",
              "    .colab-df-convert:hover {\n",
              "      background-color: #E2EBFA;\n",
              "      box-shadow: 0px 1px 2px rgba(60, 64, 67, 0.3), 0px 1px 3px 1px rgba(60, 64, 67, 0.15);\n",
              "      fill: #174EA6;\n",
              "    }\n",
              "\n",
              "    [theme=dark] .colab-df-convert {\n",
              "      background-color: #3B4455;\n",
              "      fill: #D2E3FC;\n",
              "    }\n",
              "\n",
              "    [theme=dark] .colab-df-convert:hover {\n",
              "      background-color: #434B5C;\n",
              "      box-shadow: 0px 1px 3px 1px rgba(0, 0, 0, 0.15);\n",
              "      filter: drop-shadow(0px 1px 2px rgba(0, 0, 0, 0.3));\n",
              "      fill: #FFFFFF;\n",
              "    }\n",
              "  </style>\n",
              "\n",
              "      <script>\n",
              "        const buttonEl =\n",
              "          document.querySelector('#df-0caf3b89-e93c-4578-aa83-26d5a4a53f85 button.colab-df-convert');\n",
              "        buttonEl.style.display =\n",
              "          google.colab.kernel.accessAllowed ? 'block' : 'none';\n",
              "\n",
              "        async function convertToInteractive(key) {\n",
              "          const element = document.querySelector('#df-0caf3b89-e93c-4578-aa83-26d5a4a53f85');\n",
              "          const dataTable =\n",
              "            await google.colab.kernel.invokeFunction('convertToInteractive',\n",
              "                                                     [key], {});\n",
              "          if (!dataTable) return;\n",
              "\n",
              "          const docLinkHtml = 'Like what you see? Visit the ' +\n",
              "            '<a target=\"_blank\" href=https://colab.research.google.com/notebooks/data_table.ipynb>data table notebook</a>'\n",
              "            + ' to learn more about interactive tables.';\n",
              "          element.innerHTML = '';\n",
              "          dataTable['output_type'] = 'display_data';\n",
              "          await google.colab.output.renderOutput(dataTable, element);\n",
              "          const docLink = document.createElement('div');\n",
              "          docLink.innerHTML = docLinkHtml;\n",
              "          element.appendChild(docLink);\n",
              "        }\n",
              "      </script>\n",
              "    </div>\n",
              "  </div>\n",
              "  "
            ]
          },
          "metadata": {},
          "execution_count": 11
        }
      ]
    },
    {
      "cell_type": "code",
      "source": [
        "perc_df=train_df.select([(count(when(isnan(c), c))/count(\"Id\")).alias(c) for c in train_df.columns])\n",
        "perc_df.show()"
      ],
      "metadata": {
        "id": "ABPhIzlGEVJ0",
        "colab": {
          "base_uri": "https://localhost:8080/"
        },
        "outputId": "28d3a012-1e68-4092-91de-cc896c26d871"
      },
      "execution_count": null,
      "outputs": [
        {
          "output_type": "stream",
          "name": "stdout",
          "text": [
            "+---+----------+--------+------------------+-------+------+------------------+--------+-----------+---------+---------+---------+------------+----------+----------+--------+----------+-----------+-----------+---------+------------+---------+--------+-----------+-----------+--------------------+--------------------+---------+---------+----------+--------------------+--------------------+--------------------+--------------------+----------+--------------------+----------+---------+-----------+-------+---------+----------+--------------------+--------+--------+------------+---------+------------+------------+--------+--------+------------+------------+-----------+------------+----------+----------+------------------+-------------------+-------------------+-------------------+----------+----------+-------------------+-------------------+----------+----------+-----------+-------------+---------+-----------+--------+------------------+------------------+-----------------+-------+------+------+--------+-------------+---------+\n",
            "| Id|MSSubClass|MSZoning|       LotFrontage|LotArea|Street|             Alley|LotShape|LandContour|Utilities|LotConfig|LandSlope|Neighborhood|Condition1|Condition2|BldgType|HouseStyle|OverallQual|OverallCond|YearBuilt|YearRemodAdd|RoofStyle|RoofMatl|Exterior1st|Exterior2nd|          MasVnrType|          MasVnrArea|ExterQual|ExterCond|Foundation|            BsmtQual|            BsmtCond|        BsmtExposure|        BsmtFinType1|BsmtFinSF1|        BsmtFinType2|BsmtFinSF2|BsmtUnfSF|TotalBsmtSF|Heating|HeatingQC|CentralAir|          Electrical|1stFlrSF|2ndFlrSF|LowQualFinSF|GrLivArea|BsmtFullBath|BsmtHalfBath|FullBath|HalfBath|BedroomAbvGr|KitchenAbvGr|KitchenQual|TotRmsAbvGrd|Functional|Fireplaces|       FireplaceQu|         GarageType|        GarageYrBlt|       GarageFinish|GarageCars|GarageArea|         GarageQual|         GarageCond|PavedDrive|WoodDeckSF|OpenPorchSF|EnclosedPorch|3SsnPorch|ScreenPorch|PoolArea|            PoolQC|             Fence|      MiscFeature|MiscVal|MoSold|YrSold|SaleType|SaleCondition|SalePrice|\n",
            "+---+----------+--------+------------------+-------+------+------------------+--------+-----------+---------+---------+---------+------------+----------+----------+--------+----------+-----------+-----------+---------+------------+---------+--------+-----------+-----------+--------------------+--------------------+---------+---------+----------+--------------------+--------------------+--------------------+--------------------+----------+--------------------+----------+---------+-----------+-------+---------+----------+--------------------+--------+--------+------------+---------+------------+------------+--------+--------+------------+------------+-----------+------------+----------+----------+------------------+-------------------+-------------------+-------------------+----------+----------+-------------------+-------------------+----------+----------+-----------+-------------+---------+-----------+--------+------------------+------------------+-----------------+-------+------+------+--------+-------------+---------+\n",
            "|0.0|       0.0|     0.0|0.1773972602739726|    0.0|   0.0|0.9376712328767123|     0.0|        0.0|      0.0|      0.0|      0.0|         0.0|       0.0|       0.0|     0.0|       0.0|        0.0|        0.0|      0.0|         0.0|      0.0|     0.0|        0.0|        0.0|0.005479452054794521|0.005479452054794521|      0.0|      0.0|       0.0|0.025342465753424658|0.025342465753424658|0.026027397260273973|0.025342465753424658|       0.0|0.026027397260273973|       0.0|      0.0|        0.0|    0.0|      0.0|       0.0|6.849315068493151E-4|     0.0|     0.0|         0.0|      0.0|         0.0|         0.0|     0.0|     0.0|         0.0|         0.0|        0.0|         0.0|       0.0|       0.0|0.4726027397260274|0.05547945205479452|0.05547945205479452|0.05547945205479452|       0.0|       0.0|0.05547945205479452|0.05547945205479452|       0.0|       0.0|        0.0|          0.0|      0.0|        0.0|     0.0|0.9952054794520548|0.8075342465753425|0.963013698630137|    0.0|   0.0|   0.0|     0.0|          0.0|      0.0|\n",
            "+---+----------+--------+------------------+-------+------+------------------+--------+-----------+---------+---------+---------+------------+----------+----------+--------+----------+-----------+-----------+---------+------------+---------+--------+-----------+-----------+--------------------+--------------------+---------+---------+----------+--------------------+--------------------+--------------------+--------------------+----------+--------------------+----------+---------+-----------+-------+---------+----------+--------------------+--------+--------+------------+---------+------------+------------+--------+--------+------------+------------+-----------+------------+----------+----------+------------------+-------------------+-------------------+-------------------+----------+----------+-------------------+-------------------+----------+----------+-----------+-------------+---------+-----------+--------+------------------+------------------+-----------------+-------+------+------+--------+-------------+---------+\n",
            "\n"
          ]
        }
      ]
    },
    {
      "cell_type": "code",
      "source": [
        "drop_list=[ key for (key,value) in perc_df.collect()[0].asDict().items() if value > 0.15  ]\n",
        "print(drop_list)"
      ],
      "metadata": {
        "id": "ejuApH-vEePG",
        "outputId": "762013ef-cead-4c01-b38e-c7271dc0875e",
        "colab": {
          "base_uri": "https://localhost:8080/"
        }
      },
      "execution_count": null,
      "outputs": [
        {
          "output_type": "stream",
          "name": "stdout",
          "text": [
            "['LotFrontage', 'Alley', 'FireplaceQu', 'PoolQC', 'Fence', 'MiscFeature']\n"
          ]
        }
      ]
    },
    {
      "cell_type": "code",
      "source": [
        "train_df=train_df.drop(*drop_list)\n",
        "train_df.show()"
      ],
      "metadata": {
        "id": "kPiFamjhHnro",
        "outputId": "5634d39a-594e-441e-b259-aaf6666eca99",
        "colab": {
          "base_uri": "https://localhost:8080/"
        }
      },
      "execution_count": null,
      "outputs": [
        {
          "output_type": "stream",
          "name": "stdout",
          "text": [
            "+---+----------+--------+-------+------+--------+-----------+---------+---------+---------+------------+----------+----------+--------+----------+-----------+-----------+---------+------------+---------+--------+-----------+-----------+----------+----------+---------+---------+----------+--------+--------+------------+------------+----------+------------+----------+---------+-----------+-------+---------+----------+----------+--------+--------+------------+---------+------------+------------+--------+--------+------------+------------+-----------+------------+----------+----------+----------+-----------+------------+----------+----------+----------+----------+----------+----------+-----------+-------------+---------+-----------+--------+-------+------+------+--------+-------------+---------+\n",
            "| Id|MSSubClass|MSZoning|LotArea|Street|LotShape|LandContour|Utilities|LotConfig|LandSlope|Neighborhood|Condition1|Condition2|BldgType|HouseStyle|OverallQual|OverallCond|YearBuilt|YearRemodAdd|RoofStyle|RoofMatl|Exterior1st|Exterior2nd|MasVnrType|MasVnrArea|ExterQual|ExterCond|Foundation|BsmtQual|BsmtCond|BsmtExposure|BsmtFinType1|BsmtFinSF1|BsmtFinType2|BsmtFinSF2|BsmtUnfSF|TotalBsmtSF|Heating|HeatingQC|CentralAir|Electrical|1stFlrSF|2ndFlrSF|LowQualFinSF|GrLivArea|BsmtFullBath|BsmtHalfBath|FullBath|HalfBath|BedroomAbvGr|KitchenAbvGr|KitchenQual|TotRmsAbvGrd|Functional|Fireplaces|GarageType|GarageYrBlt|GarageFinish|GarageCars|GarageArea|GarageQual|GarageCond|PavedDrive|WoodDeckSF|OpenPorchSF|EnclosedPorch|3SsnPorch|ScreenPorch|PoolArea|MiscVal|MoSold|YrSold|SaleType|SaleCondition|SalePrice|\n",
            "+---+----------+--------+-------+------+--------+-----------+---------+---------+---------+------------+----------+----------+--------+----------+-----------+-----------+---------+------------+---------+--------+-----------+-----------+----------+----------+---------+---------+----------+--------+--------+------------+------------+----------+------------+----------+---------+-----------+-------+---------+----------+----------+--------+--------+------------+---------+------------+------------+--------+--------+------------+------------+-----------+------------+----------+----------+----------+-----------+------------+----------+----------+----------+----------+----------+----------+-----------+-------------+---------+-----------+--------+-------+------+------+--------+-------------+---------+\n",
            "|  1|        60|      RL|   8450|  Pave|     Reg|        Lvl|   AllPub|   Inside|      Gtl|     CollgCr|      Norm|      Norm|    1Fam|    2Story|          7|          5|     2003|        2003|    Gable| CompShg|    VinylSd|    VinylSd|   BrkFace|     196.0|       Gd|       TA|     PConc|      Gd|      TA|          No|         GLQ|       706|         Unf|         0|      150|        856|   GasA|       Ex|         Y|     SBrkr|     856|     854|           0|     1710|           1|           0|       2|       1|           3|           1|         Gd|           8|       Typ|         0|    Attchd|     2003.0|         RFn|         2|       548|        TA|        TA|         Y|         0|         61|            0|        0|          0|       0|      0|     2|  2008|      WD|       Normal|   208500|\n",
            "|  2|        20|      RL|   9600|  Pave|     Reg|        Lvl|   AllPub|      FR2|      Gtl|     Veenker|     Feedr|      Norm|    1Fam|    1Story|          6|          8|     1976|        1976|    Gable| CompShg|    MetalSd|    MetalSd|      None|       0.0|       TA|       TA|    CBlock|      Gd|      TA|          Gd|         ALQ|       978|         Unf|         0|      284|       1262|   GasA|       Ex|         Y|     SBrkr|    1262|       0|           0|     1262|           0|           1|       2|       0|           3|           1|         TA|           6|       Typ|         1|    Attchd|     1976.0|         RFn|         2|       460|        TA|        TA|         Y|       298|          0|            0|        0|          0|       0|      0|     5|  2007|      WD|       Normal|   181500|\n",
            "|  3|        60|      RL|  11250|  Pave|     IR1|        Lvl|   AllPub|   Inside|      Gtl|     CollgCr|      Norm|      Norm|    1Fam|    2Story|          7|          5|     2001|        2002|    Gable| CompShg|    VinylSd|    VinylSd|   BrkFace|     162.0|       Gd|       TA|     PConc|      Gd|      TA|          Mn|         GLQ|       486|         Unf|         0|      434|        920|   GasA|       Ex|         Y|     SBrkr|     920|     866|           0|     1786|           1|           0|       2|       1|           3|           1|         Gd|           6|       Typ|         1|    Attchd|     2001.0|         RFn|         2|       608|        TA|        TA|         Y|         0|         42|            0|        0|          0|       0|      0|     9|  2008|      WD|       Normal|   223500|\n",
            "|  4|        70|      RL|   9550|  Pave|     IR1|        Lvl|   AllPub|   Corner|      Gtl|     Crawfor|      Norm|      Norm|    1Fam|    2Story|          7|          5|     1915|        1970|    Gable| CompShg|    Wd Sdng|    Wd Shng|      None|       0.0|       TA|       TA|    BrkTil|      TA|      Gd|          No|         ALQ|       216|         Unf|         0|      540|        756|   GasA|       Gd|         Y|     SBrkr|     961|     756|           0|     1717|           1|           0|       1|       0|           3|           1|         Gd|           7|       Typ|         1|    Detchd|     1998.0|         Unf|         3|       642|        TA|        TA|         Y|         0|         35|          272|        0|          0|       0|      0|     2|  2006|      WD|      Abnorml|   140000|\n",
            "|  5|        60|      RL|  14260|  Pave|     IR1|        Lvl|   AllPub|      FR2|      Gtl|     NoRidge|      Norm|      Norm|    1Fam|    2Story|          8|          5|     2000|        2000|    Gable| CompShg|    VinylSd|    VinylSd|   BrkFace|     350.0|       Gd|       TA|     PConc|      Gd|      TA|          Av|         GLQ|       655|         Unf|         0|      490|       1145|   GasA|       Ex|         Y|     SBrkr|    1145|    1053|           0|     2198|           1|           0|       2|       1|           4|           1|         Gd|           9|       Typ|         1|    Attchd|     2000.0|         RFn|         3|       836|        TA|        TA|         Y|       192|         84|            0|        0|          0|       0|      0|    12|  2008|      WD|       Normal|   250000|\n",
            "|  6|        50|      RL|  14115|  Pave|     IR1|        Lvl|   AllPub|   Inside|      Gtl|     Mitchel|      Norm|      Norm|    1Fam|    1.5Fin|          5|          5|     1993|        1995|    Gable| CompShg|    VinylSd|    VinylSd|      None|       0.0|       TA|       TA|      Wood|      Gd|      TA|          No|         GLQ|       732|         Unf|         0|       64|        796|   GasA|       Ex|         Y|     SBrkr|     796|     566|           0|     1362|           1|           0|       1|       1|           1|           1|         TA|           5|       Typ|         0|    Attchd|     1993.0|         Unf|         2|       480|        TA|        TA|         Y|        40|         30|            0|      320|          0|       0|    700|    10|  2009|      WD|       Normal|   143000|\n",
            "|  7|        20|      RL|  10084|  Pave|     Reg|        Lvl|   AllPub|   Inside|      Gtl|     Somerst|      Norm|      Norm|    1Fam|    1Story|          8|          5|     2004|        2005|    Gable| CompShg|    VinylSd|    VinylSd|     Stone|     186.0|       Gd|       TA|     PConc|      Ex|      TA|          Av|         GLQ|      1369|         Unf|         0|      317|       1686|   GasA|       Ex|         Y|     SBrkr|    1694|       0|           0|     1694|           1|           0|       2|       0|           3|           1|         Gd|           7|       Typ|         1|    Attchd|     2004.0|         RFn|         2|       636|        TA|        TA|         Y|       255|         57|            0|        0|          0|       0|      0|     8|  2007|      WD|       Normal|   307000|\n",
            "|  8|        60|      RL|  10382|  Pave|     IR1|        Lvl|   AllPub|   Corner|      Gtl|      NWAmes|      PosN|      Norm|    1Fam|    2Story|          7|          6|     1973|        1973|    Gable| CompShg|    HdBoard|    HdBoard|     Stone|     240.0|       TA|       TA|    CBlock|      Gd|      TA|          Mn|         ALQ|       859|         BLQ|        32|      216|       1107|   GasA|       Ex|         Y|     SBrkr|    1107|     983|           0|     2090|           1|           0|       2|       1|           3|           1|         TA|           7|       Typ|         2|    Attchd|     1973.0|         RFn|         2|       484|        TA|        TA|         Y|       235|        204|          228|        0|          0|       0|    350|    11|  2009|      WD|       Normal|   200000|\n",
            "|  9|        50|      RM|   6120|  Pave|     Reg|        Lvl|   AllPub|   Inside|      Gtl|     OldTown|    Artery|      Norm|    1Fam|    1.5Fin|          7|          5|     1931|        1950|    Gable| CompShg|    BrkFace|    Wd Shng|      None|       0.0|       TA|       TA|    BrkTil|      TA|      TA|          No|         Unf|         0|         Unf|         0|      952|        952|   GasA|       Gd|         Y|     FuseF|    1022|     752|           0|     1774|           0|           0|       2|       0|           2|           2|         TA|           8|      Min1|         2|    Detchd|     1931.0|         Unf|         2|       468|        Fa|        TA|         Y|        90|          0|          205|        0|          0|       0|      0|     4|  2008|      WD|      Abnorml|   129900|\n",
            "| 10|       190|      RL|   7420|  Pave|     Reg|        Lvl|   AllPub|   Corner|      Gtl|     BrkSide|    Artery|    Artery|  2fmCon|    1.5Unf|          5|          6|     1939|        1950|    Gable| CompShg|    MetalSd|    MetalSd|      None|       0.0|       TA|       TA|    BrkTil|      TA|      TA|          No|         GLQ|       851|         Unf|         0|      140|        991|   GasA|       Ex|         Y|     SBrkr|    1077|       0|           0|     1077|           1|           0|       1|       0|           2|           2|         TA|           5|       Typ|         2|    Attchd|     1939.0|         RFn|         1|       205|        Gd|        TA|         Y|         0|          4|            0|        0|          0|       0|      0|     1|  2008|      WD|       Normal|   118000|\n",
            "| 11|        20|      RL|  11200|  Pave|     Reg|        Lvl|   AllPub|   Inside|      Gtl|      Sawyer|      Norm|      Norm|    1Fam|    1Story|          5|          5|     1965|        1965|      Hip| CompShg|    HdBoard|    HdBoard|      None|       0.0|       TA|       TA|    CBlock|      TA|      TA|          No|         Rec|       906|         Unf|         0|      134|       1040|   GasA|       Ex|         Y|     SBrkr|    1040|       0|           0|     1040|           1|           0|       1|       0|           3|           1|         TA|           5|       Typ|         0|    Detchd|     1965.0|         Unf|         1|       384|        TA|        TA|         Y|         0|          0|            0|        0|          0|       0|      0|     2|  2008|      WD|       Normal|   129500|\n",
            "| 12|        60|      RL|  11924|  Pave|     IR1|        Lvl|   AllPub|   Inside|      Gtl|     NridgHt|      Norm|      Norm|    1Fam|    2Story|          9|          5|     2005|        2006|      Hip| CompShg|    WdShing|    Wd Shng|     Stone|     286.0|       Ex|       TA|     PConc|      Ex|      TA|          No|         GLQ|       998|         Unf|         0|      177|       1175|   GasA|       Ex|         Y|     SBrkr|    1182|    1142|           0|     2324|           1|           0|       3|       0|           4|           1|         Ex|          11|       Typ|         2|   BuiltIn|     2005.0|         Fin|         3|       736|        TA|        TA|         Y|       147|         21|            0|        0|          0|       0|      0|     7|  2006|     New|      Partial|   345000|\n",
            "| 13|        20|      RL|  12968|  Pave|     IR2|        Lvl|   AllPub|   Inside|      Gtl|      Sawyer|      Norm|      Norm|    1Fam|    1Story|          5|          6|     1962|        1962|      Hip| CompShg|    HdBoard|    Plywood|      None|       0.0|       TA|       TA|    CBlock|      TA|      TA|          No|         ALQ|       737|         Unf|         0|      175|        912|   GasA|       TA|         Y|     SBrkr|     912|       0|           0|      912|           1|           0|       1|       0|           2|           1|         TA|           4|       Typ|         0|    Detchd|     1962.0|         Unf|         1|       352|        TA|        TA|         Y|       140|          0|            0|        0|        176|       0|      0|     9|  2008|      WD|       Normal|   144000|\n",
            "| 14|        20|      RL|  10652|  Pave|     IR1|        Lvl|   AllPub|   Inside|      Gtl|     CollgCr|      Norm|      Norm|    1Fam|    1Story|          7|          5|     2006|        2007|    Gable| CompShg|    VinylSd|    VinylSd|     Stone|     306.0|       Gd|       TA|     PConc|      Gd|      TA|          Av|         Unf|         0|         Unf|         0|     1494|       1494|   GasA|       Ex|         Y|     SBrkr|    1494|       0|           0|     1494|           0|           0|       2|       0|           3|           1|         Gd|           7|       Typ|         1|    Attchd|     2006.0|         RFn|         3|       840|        TA|        TA|         Y|       160|         33|            0|        0|          0|       0|      0|     8|  2007|     New|      Partial|   279500|\n",
            "| 15|        20|      RL|  10920|  Pave|     IR1|        Lvl|   AllPub|   Corner|      Gtl|       NAmes|      Norm|      Norm|    1Fam|    1Story|          6|          5|     1960|        1960|      Hip| CompShg|    MetalSd|    MetalSd|   BrkFace|     212.0|       TA|       TA|    CBlock|      TA|      TA|          No|         BLQ|       733|         Unf|         0|      520|       1253|   GasA|       TA|         Y|     SBrkr|    1253|       0|           0|     1253|           1|           0|       1|       1|           2|           1|         TA|           5|       Typ|         1|    Attchd|     1960.0|         RFn|         1|       352|        TA|        TA|         Y|         0|        213|          176|        0|          0|       0|      0|     5|  2008|      WD|       Normal|   157000|\n",
            "| 16|        45|      RM|   6120|  Pave|     Reg|        Lvl|   AllPub|   Corner|      Gtl|     BrkSide|      Norm|      Norm|    1Fam|    1.5Unf|          7|          8|     1929|        2001|    Gable| CompShg|    Wd Sdng|    Wd Sdng|      None|       0.0|       TA|       TA|    BrkTil|      TA|      TA|          No|         Unf|         0|         Unf|         0|      832|        832|   GasA|       Ex|         Y|     FuseA|     854|       0|           0|      854|           0|           0|       1|       0|           2|           1|         TA|           5|       Typ|         0|    Detchd|     1991.0|         Unf|         2|       576|        TA|        TA|         Y|        48|        112|            0|        0|          0|       0|      0|     7|  2007|      WD|       Normal|   132000|\n",
            "| 17|        20|      RL|  11241|  Pave|     IR1|        Lvl|   AllPub|  CulDSac|      Gtl|       NAmes|      Norm|      Norm|    1Fam|    1Story|          6|          7|     1970|        1970|    Gable| CompShg|    Wd Sdng|    Wd Sdng|   BrkFace|     180.0|       TA|       TA|    CBlock|      TA|      TA|          No|         ALQ|       578|         Unf|         0|      426|       1004|   GasA|       Ex|         Y|     SBrkr|    1004|       0|           0|     1004|           1|           0|       1|       0|           2|           1|         TA|           5|       Typ|         1|    Attchd|     1970.0|         Fin|         2|       480|        TA|        TA|         Y|         0|          0|            0|        0|          0|       0|    700|     3|  2010|      WD|       Normal|   149000|\n",
            "| 18|        90|      RL|  10791|  Pave|     Reg|        Lvl|   AllPub|   Inside|      Gtl|      Sawyer|      Norm|      Norm|  Duplex|    1Story|          4|          5|     1967|        1967|    Gable| CompShg|    MetalSd|    MetalSd|      None|       0.0|       TA|       TA|      Slab|     NaN|     NaN|         NaN|         NaN|         0|         NaN|         0|        0|          0|   GasA|       TA|         Y|     SBrkr|    1296|       0|           0|     1296|           0|           0|       2|       0|           2|           2|         TA|           6|       Typ|         0|   CarPort|     1967.0|         Unf|         2|       516|        TA|        TA|         Y|         0|          0|            0|        0|          0|       0|    500|    10|  2006|      WD|       Normal|    90000|\n",
            "| 19|        20|      RL|  13695|  Pave|     Reg|        Lvl|   AllPub|   Inside|      Gtl|     SawyerW|      RRAe|      Norm|    1Fam|    1Story|          5|          5|     2004|        2004|    Gable| CompShg|    VinylSd|    VinylSd|      None|       0.0|       TA|       TA|     PConc|      TA|      TA|          No|         GLQ|       646|         Unf|         0|      468|       1114|   GasA|       Ex|         Y|     SBrkr|    1114|       0|           0|     1114|           1|           0|       1|       1|           3|           1|         Gd|           6|       Typ|         0|    Detchd|     2004.0|         Unf|         2|       576|        TA|        TA|         Y|         0|        102|            0|        0|          0|       0|      0|     6|  2008|      WD|       Normal|   159000|\n",
            "| 20|        20|      RL|   7560|  Pave|     Reg|        Lvl|   AllPub|   Inside|      Gtl|       NAmes|      Norm|      Norm|    1Fam|    1Story|          5|          6|     1958|        1965|      Hip| CompShg|    BrkFace|    Plywood|      None|       0.0|       TA|       TA|    CBlock|      TA|      TA|          No|         LwQ|       504|         Unf|         0|      525|       1029|   GasA|       TA|         Y|     SBrkr|    1339|       0|           0|     1339|           0|           0|       1|       0|           3|           1|         TA|           6|      Min1|         0|    Attchd|     1958.0|         Unf|         1|       294|        TA|        TA|         Y|         0|          0|            0|        0|          0|       0|      0|     5|  2009|     COD|      Abnorml|   139000|\n",
            "+---+----------+--------+-------+------+--------+-----------+---------+---------+---------+------------+----------+----------+--------+----------+-----------+-----------+---------+------------+---------+--------+-----------+-----------+----------+----------+---------+---------+----------+--------+--------+------------+------------+----------+------------+----------+---------+-----------+-------+---------+----------+----------+--------+--------+------------+---------+------------+------------+--------+--------+------------+------------+-----------+------------+----------+----------+----------+-----------+------------+----------+----------+----------+----------+----------+----------+-----------+-------------+---------+-----------+--------+-------+------+------+--------+-------------+---------+\n",
            "only showing top 20 rows\n",
            "\n"
          ]
        }
      ]
    },
    {
      "cell_type": "markdown",
      "source": [
        "### Changing Ordinal Categorical Data into Numerical Values"
      ],
      "metadata": {
        "id": "LjDQUIUSosCF"
      }
    },
    {
      "cell_type": "code",
      "source": [
        "def encodeRating(df):\n",
        "    df=df.withColumn(\"LotShape\",when(col(\"LotShape\")==\"Reg\",0).when(col(\"LotShape\")==\"IR1\",1).when(col(\"LotShape\")==\"IR2\",2).when(col(\"LotShape\")==\"IR3\",3))\n",
        "    df=df.withColumn(\"Utilities\",when(col(\"Utilities\")==\"AllPub\",3).when(col(\"Utilities\")==\"NoSewr\",2).when(col(\"Utilities\")==\"NoSeWa\",1).when(col(\"Utilities\")==\"ELO\",0))\n",
        "    df=df.withColumn(\"LandSlope\",when(col(\"LandSlope\")==\"Gtl\",0).when(col(\"LandSlope\")==\"Mod\",1).when(col(\"LandSlope\")==\"Sev\",2))\n",
        "    df=df.withColumn(\"ExterQual\",when(col(\"ExterQual\")==\"Ex\",4).when(col(\"ExterQual\")==\"Gd\",3).when(col(\"ExterQual\")==\"TA\",2).when(col(\"ExterQual\")==\"Fa\",1).when(col(\"ExterQual\")==\"Po\",0))\n",
        "    df=df.withColumn(\"ExterCond\",when(col(\"ExterCond\")==\"Ex\",4).when(col(\"ExterCond\")==\"Gd\",3).when(col(\"ExterCond\")==\"TA\",2).when(col(\"ExterCond\")==\"Fa\",1).when(col(\"ExterCond\")==\"Po\",0))\n",
        "    df=df.withColumn(\"BsmtQual\",when(col(\"BsmtQual\")==\"Ex\",5).when(col(\"BsmtQual\")==\"Gd\",4).when(col(\"BsmtQual\")==\"TA\",3).when(col(\"BsmtQual\")==\"Fa\",2).when(col(\"BsmtQual\")==\"Po\",1).otherwise(0))\n",
        "    df=df.withColumn(\"BsmtCond\",when(col(\"BsmtCond\")==\"Ex\",5).when(col(\"BsmtCond\")==\"Gd\",4).when(col(\"BsmtCond\")==\"TA\",3).when(col(\"BsmtCond\")==\"Fa\",2).when(col(\"BsmtCond\")==\"Po\",1).otherwise(0))\n",
        "    df=df.withColumn(\"BsmtExposure\",when(col(\"BsmtExposure\")==\"Gd\",4).when(col(\"BsmtExposure\")==\"Av\",3).when(col(\"BsmtExposure\")==\"Mn\",2).when(col(\"BsmtExposure\")==\"No\",1).otherwise(0))\n",
        "    df=df.withColumn(\"BsmtFinType1\",when(col(\"BsmtFinType1\")==\"GLQ\",6).when(col(\"BsmtFinType1\")==\"ALQ\",5).when(col(\"BsmtFinType1\")==\"BLQ\",4).when(col(\"BsmtFinType1\")==\"Rec\",3).when(col(\"BsmtFinType1\")==\"LwQ\",2).when(col(\"BsmtFinType1\")==\"Unf\",1).otherwise(0))\n",
        "    df=df.withColumn(\"BsmtFinType2\",when(col(\"BsmtFinType2\")==\"GLQ\",6).when(col(\"BsmtFinType2\")==\"ALQ\",5).when(col(\"BsmtFinType2\")==\"BLQ\",4).when(col(\"BsmtFinType2\")==\"Rec\",3).when(col(\"BsmtFinType2\")==\"LwQ\",2).when(col(\"BsmtFinType2\")==\"Unf\",1).otherwise(0))\n",
        "    df=df.withColumn(\"HeatingQC\",when(col(\"HeatingQC\")==\"Ex\",4).when(col(\"HeatingQC\")==\"Gd\",3).when(col(\"HeatingQC\")==\"TA\",2).when(col(\"HeatingQC\")==\"Fa\",1).otherwise(0))\n",
        "    df=df.withColumn(\"CentralAir\",when(col(\"CentralAir\")==\"N\",0).when(col(\"CentralAir\")==\"Y\",1))\n",
        "    df=df.withColumn(\"Electrical\",when(col(\"Electrical\")==\"SBrkr\",4).when(col(\"Electrical\")==\"FuseA\",3).when(col(\"Electrical\")==\"FuseF\",2).when(col(\"Electrical\")==\"FuseP\",1).otherwise(0))\n",
        "    df=df.withColumn(\"KitchenQual\",when(col(\"KitchenQual\")==\"Ex\",4).when(col(\"KitchenQual\")==\"Gd\",3).when(col(\"KitchenQual\")==\"TA\",2).when(col(\"KitchenQual\")==\"Fa\",1).otherwise(0))\n",
        "    df=df.withColumn(\"Functional\",when(col(\"Functional\")==\"Typ\",6).when(col(\"Functional\")==\"Min1\",6).when(col(\"Functional\")==\"Min2\",5).when(col(\"Functional\")==\"Mod\",4).when(col(\"Functional\")==\"Maj1\",3).when(col(\"Functional\")==\"Maj2\",2).when(col(\"Functional\")==\"Sev\",1).when(col(\"Functional\")==\"Sal\",0))\n",
        "    df=df.withColumn(\"GarageFinish\",when(col(\"GarageFinish\")==\"Fin\",3).when(col(\"GarageFinish\")==\"RFn\",2).when(col(\"GarageFinish\")==\"Unf\",1).otherwise(0))\n",
        "    df=df.withColumn(\"GarageQual\",when(col(\"GarageQual\")==\"Ex\",5).when(col(\"GarageQual\")==\"Gd\",4).when(col(\"GarageQual\")==\"TA\",3).when(col(\"GarageQual\")==\"Fa\",2).when(col(\"GarageQual\")==\"Po\",1).otherwise(0))\n",
        "    df=df.withColumn(\"GarageCond\",when(col(\"GarageCond\")==\"Ex\",5).when(col(\"GarageCond\")==\"Gd\",4).when(col(\"GarageCond\")==\"TA\",3).when(col(\"GarageCond\")==\"Fa\",2).when(col(\"GarageCond\")==\"Po\",1).otherwise(0))\n",
        "    df=df.withColumn(\"PavedDrive\",when(col(\"PavedDrive\")==\"Y\",2).when(col(\"PavedDrive\")==\"P\",1).when(col(\"PavedDrive\")==\"N\",0))\n",
        "    df=df.fillna(0,['GarageYrBlt', 'GarageArea', 'GarageCars','MasVnrArea'])\n",
        "    df=df.withColumn('MSSubClass',df['MSSubClass'].cast('string'))\n",
        "\n",
        "    return df\n",
        "\n",
        "def getAvg(df,feat):\n",
        "    a=df.groupBy(feat).avg(\"SalePrice\")\n",
        "    # v=df.groupBy(feat).agg(var_samp(\"SalePrice\"))\n",
        "    # r=a.join(v,feat)\n",
        "    return a\n",
        "\n",
        "def encodeTarget(df,feat):\n",
        "    avg_df=df.select([feat,\"SalePrice\"])\n",
        "    avg_df=avg_df.groupBy(feat).mean(\"SalePrice\").alias(feat+\"_avg\")\n",
        "    avg_df=avg_df.select(F.col(feat),F.col(\"avg(SalePrice)\").alias(feat+\"_avg\"))\n",
        "    df=df.join(avg_df,feat)\n",
        "    return df"
      ],
      "metadata": {
        "id": "NMiy9EOvu3E1"
      },
      "execution_count": null,
      "outputs": []
    },
    {
      "cell_type": "code",
      "source": [
        "train_df=encodeRating(train_df)\n",
        "train_df.limit(5).show()\n",
        "print(train_df.select([count(when(isnan(c), c)).alias(c) for c in train_df.columns]).show())\n"
      ],
      "metadata": {
        "colab": {
          "base_uri": "https://localhost:8080/"
        },
        "id": "drp0cIjRMTul",
        "outputId": "72a5e04e-e73b-48a8-f634-e3f4cf2d232c"
      },
      "execution_count": null,
      "outputs": [
        {
          "output_type": "stream",
          "name": "stdout",
          "text": [
            "+---+----------+--------+-------+------+--------+-----------+---------+---------+---------+------------+----------+----------+--------+----------+-----------+-----------+---------+------------+---------+--------+-----------+-----------+----------+----------+---------+---------+----------+--------+--------+------------+------------+----------+------------+----------+---------+-----------+-------+---------+----------+----------+--------+--------+------------+---------+------------+------------+--------+--------+------------+------------+-----------+------------+----------+----------+----------+-----------+------------+----------+----------+----------+----------+----------+----------+-----------+-------------+---------+-----------+--------+-------+------+------+--------+-------------+---------+\n",
            "| Id|MSSubClass|MSZoning|LotArea|Street|LotShape|LandContour|Utilities|LotConfig|LandSlope|Neighborhood|Condition1|Condition2|BldgType|HouseStyle|OverallQual|OverallCond|YearBuilt|YearRemodAdd|RoofStyle|RoofMatl|Exterior1st|Exterior2nd|MasVnrType|MasVnrArea|ExterQual|ExterCond|Foundation|BsmtQual|BsmtCond|BsmtExposure|BsmtFinType1|BsmtFinSF1|BsmtFinType2|BsmtFinSF2|BsmtUnfSF|TotalBsmtSF|Heating|HeatingQC|CentralAir|Electrical|1stFlrSF|2ndFlrSF|LowQualFinSF|GrLivArea|BsmtFullBath|BsmtHalfBath|FullBath|HalfBath|BedroomAbvGr|KitchenAbvGr|KitchenQual|TotRmsAbvGrd|Functional|Fireplaces|GarageType|GarageYrBlt|GarageFinish|GarageCars|GarageArea|GarageQual|GarageCond|PavedDrive|WoodDeckSF|OpenPorchSF|EnclosedPorch|3SsnPorch|ScreenPorch|PoolArea|MiscVal|MoSold|YrSold|SaleType|SaleCondition|SalePrice|\n",
            "+---+----------+--------+-------+------+--------+-----------+---------+---------+---------+------------+----------+----------+--------+----------+-----------+-----------+---------+------------+---------+--------+-----------+-----------+----------+----------+---------+---------+----------+--------+--------+------------+------------+----------+------------+----------+---------+-----------+-------+---------+----------+----------+--------+--------+------------+---------+------------+------------+--------+--------+------------+------------+-----------+------------+----------+----------+----------+-----------+------------+----------+----------+----------+----------+----------+----------+-----------+-------------+---------+-----------+--------+-------+------+------+--------+-------------+---------+\n",
            "|  1|        60|      RL|   8450|  Pave|       0|        Lvl|        3|   Inside|        0|     CollgCr|      Norm|      Norm|    1Fam|    2Story|          7|          5|     2003|        2003|    Gable| CompShg|    VinylSd|    VinylSd|   BrkFace|     196.0|        3|        2|     PConc|       4|       3|           1|           6|       706|           1|         0|      150|        856|   GasA|        4|         1|         4|     856|     854|           0|     1710|           1|           0|       2|       1|           3|           1|          3|           8|         6|         0|    Attchd|     2003.0|           2|         2|       548|         3|         3|         2|         0|         61|            0|        0|          0|       0|      0|     2|  2008|      WD|       Normal|   208500|\n",
            "|  2|        20|      RL|   9600|  Pave|       0|        Lvl|        3|      FR2|        0|     Veenker|     Feedr|      Norm|    1Fam|    1Story|          6|          8|     1976|        1976|    Gable| CompShg|    MetalSd|    MetalSd|      None|       0.0|        2|        2|    CBlock|       4|       3|           4|           5|       978|           1|         0|      284|       1262|   GasA|        4|         1|         4|    1262|       0|           0|     1262|           0|           1|       2|       0|           3|           1|          2|           6|         6|         1|    Attchd|     1976.0|           2|         2|       460|         3|         3|         2|       298|          0|            0|        0|          0|       0|      0|     5|  2007|      WD|       Normal|   181500|\n",
            "|  3|        60|      RL|  11250|  Pave|       1|        Lvl|        3|   Inside|        0|     CollgCr|      Norm|      Norm|    1Fam|    2Story|          7|          5|     2001|        2002|    Gable| CompShg|    VinylSd|    VinylSd|   BrkFace|     162.0|        3|        2|     PConc|       4|       3|           2|           6|       486|           1|         0|      434|        920|   GasA|        4|         1|         4|     920|     866|           0|     1786|           1|           0|       2|       1|           3|           1|          3|           6|         6|         1|    Attchd|     2001.0|           2|         2|       608|         3|         3|         2|         0|         42|            0|        0|          0|       0|      0|     9|  2008|      WD|       Normal|   223500|\n",
            "|  4|        70|      RL|   9550|  Pave|       1|        Lvl|        3|   Corner|        0|     Crawfor|      Norm|      Norm|    1Fam|    2Story|          7|          5|     1915|        1970|    Gable| CompShg|    Wd Sdng|    Wd Shng|      None|       0.0|        2|        2|    BrkTil|       3|       4|           1|           5|       216|           1|         0|      540|        756|   GasA|        3|         1|         4|     961|     756|           0|     1717|           1|           0|       1|       0|           3|           1|          3|           7|         6|         1|    Detchd|     1998.0|           1|         3|       642|         3|         3|         2|         0|         35|          272|        0|          0|       0|      0|     2|  2006|      WD|      Abnorml|   140000|\n",
            "|  5|        60|      RL|  14260|  Pave|       1|        Lvl|        3|      FR2|        0|     NoRidge|      Norm|      Norm|    1Fam|    2Story|          8|          5|     2000|        2000|    Gable| CompShg|    VinylSd|    VinylSd|   BrkFace|     350.0|        3|        2|     PConc|       4|       3|           3|           6|       655|           1|         0|      490|       1145|   GasA|        4|         1|         4|    1145|    1053|           0|     2198|           1|           0|       2|       1|           4|           1|          3|           9|         6|         1|    Attchd|     2000.0|           2|         3|       836|         3|         3|         2|       192|         84|            0|        0|          0|       0|      0|    12|  2008|      WD|       Normal|   250000|\n",
            "+---+----------+--------+-------+------+--------+-----------+---------+---------+---------+------------+----------+----------+--------+----------+-----------+-----------+---------+------------+---------+--------+-----------+-----------+----------+----------+---------+---------+----------+--------+--------+------------+------------+----------+------------+----------+---------+-----------+-------+---------+----------+----------+--------+--------+------------+---------+------------+------------+--------+--------+------------+------------+-----------+------------+----------+----------+----------+-----------+------------+----------+----------+----------+----------+----------+----------+-----------+-------------+---------+-----------+--------+-------+------+------+--------+-------------+---------+\n",
            "\n",
            "+---+----------+--------+-------+------+--------+-----------+---------+---------+---------+------------+----------+----------+--------+----------+-----------+-----------+---------+------------+---------+--------+-----------+-----------+----------+----------+---------+---------+----------+--------+--------+------------+------------+----------+------------+----------+---------+-----------+-------+---------+----------+----------+--------+--------+------------+---------+------------+------------+--------+--------+------------+------------+-----------+------------+----------+----------+----------+-----------+------------+----------+----------+----------+----------+----------+----------+-----------+-------------+---------+-----------+--------+-------+------+------+--------+-------------+---------+\n",
            "| Id|MSSubClass|MSZoning|LotArea|Street|LotShape|LandContour|Utilities|LotConfig|LandSlope|Neighborhood|Condition1|Condition2|BldgType|HouseStyle|OverallQual|OverallCond|YearBuilt|YearRemodAdd|RoofStyle|RoofMatl|Exterior1st|Exterior2nd|MasVnrType|MasVnrArea|ExterQual|ExterCond|Foundation|BsmtQual|BsmtCond|BsmtExposure|BsmtFinType1|BsmtFinSF1|BsmtFinType2|BsmtFinSF2|BsmtUnfSF|TotalBsmtSF|Heating|HeatingQC|CentralAir|Electrical|1stFlrSF|2ndFlrSF|LowQualFinSF|GrLivArea|BsmtFullBath|BsmtHalfBath|FullBath|HalfBath|BedroomAbvGr|KitchenAbvGr|KitchenQual|TotRmsAbvGrd|Functional|Fireplaces|GarageType|GarageYrBlt|GarageFinish|GarageCars|GarageArea|GarageQual|GarageCond|PavedDrive|WoodDeckSF|OpenPorchSF|EnclosedPorch|3SsnPorch|ScreenPorch|PoolArea|MiscVal|MoSold|YrSold|SaleType|SaleCondition|SalePrice|\n",
            "+---+----------+--------+-------+------+--------+-----------+---------+---------+---------+------------+----------+----------+--------+----------+-----------+-----------+---------+------------+---------+--------+-----------+-----------+----------+----------+---------+---------+----------+--------+--------+------------+------------+----------+------------+----------+---------+-----------+-------+---------+----------+----------+--------+--------+------------+---------+------------+------------+--------+--------+------------+------------+-----------+------------+----------+----------+----------+-----------+------------+----------+----------+----------+----------+----------+----------+-----------+-------------+---------+-----------+--------+-------+------+------+--------+-------------+---------+\n",
            "|  0|         0|       0|      0|     0|       0|          0|        0|        0|        0|           0|         0|         0|       0|         0|          0|          0|        0|           0|        0|       0|          0|          0|         8|         0|        0|        0|         0|       0|       0|           0|           0|         0|           0|         0|        0|          0|      0|        0|         0|         0|       0|       0|           0|        0|           0|           0|       0|       0|           0|           0|          0|           0|         0|         0|        81|          0|           0|         0|         0|         0|         0|         0|         0|          0|            0|        0|          0|       0|      0|     0|     0|       0|            0|        0|\n",
            "+---+----------+--------+-------+------+--------+-----------+---------+---------+---------+------------+----------+----------+--------+----------+-----------+-----------+---------+------------+---------+--------+-----------+-----------+----------+----------+---------+---------+----------+--------+--------+------------+------------+----------+------------+----------+---------+-----------+-------+---------+----------+----------+--------+--------+------------+---------+------------+------------+--------+--------+------------+------------+-----------+------------+----------+----------+----------+-----------+------------+----------+----------+----------+----------+----------+----------+-----------+-------------+---------+-----------+--------+-------+------+------+--------+-------------+---------+\n",
            "\n",
            "None\n"
          ]
        }
      ]
    },
    {
      "cell_type": "code",
      "source": [
        "cat_feat=['MSSubClass','MSZoning','Street','LandContour','LotConfig',\\\n",
        "          'Neighborhood','Condition1','Condition2','BldgType','HouseStyle',\\\n",
        "          'RoofStyle','RoofMatl','Exterior1st','Exterior2nd','MasVnrType',\\\n",
        "          'Foundation','Heating','GarageType','SaleType','SaleCondition']\n",
        "numerical_feat=[x for x in train_df.columns if (x not in cat_feat)]"
      ],
      "metadata": {
        "id": "YI8gwZ2QnXFh"
      },
      "execution_count": null,
      "outputs": []
    },
    {
      "cell_type": "code",
      "source": [
        "pd_train.columns"
      ],
      "metadata": {
        "colab": {
          "base_uri": "https://localhost:8080/"
        },
        "id": "MV_jZGs0QXZH",
        "outputId": "01753eb2-a413-4f57-ac5a-0e3126fa4e46"
      },
      "execution_count": null,
      "outputs": [
        {
          "output_type": "execute_result",
          "data": {
            "text/plain": [
              "Index(['Id', 'MSSubClass', 'MSZoning', 'LotFrontage', 'LotArea', 'Street',\n",
              "       'Alley', 'LotShape', 'LandContour', 'Utilities', 'LotConfig',\n",
              "       'LandSlope', 'Neighborhood', 'Condition1', 'Condition2', 'BldgType',\n",
              "       'HouseStyle', 'OverallQual', 'OverallCond', 'YearBuilt', 'YearRemodAdd',\n",
              "       'RoofStyle', 'RoofMatl', 'Exterior1st', 'Exterior2nd', 'MasVnrType',\n",
              "       'MasVnrArea', 'ExterQual', 'ExterCond', 'Foundation', 'BsmtQual',\n",
              "       'BsmtCond', 'BsmtExposure', 'BsmtFinType1', 'BsmtFinSF1',\n",
              "       'BsmtFinType2', 'BsmtFinSF2', 'BsmtUnfSF', 'TotalBsmtSF', 'Heating',\n",
              "       'HeatingQC', 'CentralAir', 'Electrical', '1stFlrSF', '2ndFlrSF',\n",
              "       'LowQualFinSF', 'GrLivArea', 'BsmtFullBath', 'BsmtHalfBath', 'FullBath',\n",
              "       'HalfBath', 'BedroomAbvGr', 'KitchenAbvGr', 'KitchenQual',\n",
              "       'TotRmsAbvGrd', 'Functional', 'Fireplaces', 'FireplaceQu', 'GarageType',\n",
              "       'GarageYrBlt', 'GarageFinish', 'GarageCars', 'GarageArea', 'GarageQual',\n",
              "       'GarageCond', 'PavedDrive', 'WoodDeckSF', 'OpenPorchSF',\n",
              "       'EnclosedPorch', '3SsnPorch', 'ScreenPorch', 'PoolArea', 'PoolQC',\n",
              "       'Fence', 'MiscFeature', 'MiscVal', 'MoSold', 'YrSold', 'SaleType',\n",
              "       'SaleCondition', 'SalePrice'],\n",
              "      dtype='object')"
            ]
          },
          "metadata": {},
          "execution_count": 18
        }
      ]
    },
    {
      "cell_type": "code",
      "source": [
        "train_df.printSchema()"
      ],
      "metadata": {
        "id": "tsTyyekcLbbt",
        "outputId": "3b1b0c49-6238-44ba-e577-97c5943c21bf",
        "colab": {
          "base_uri": "https://localhost:8080/"
        }
      },
      "execution_count": null,
      "outputs": [
        {
          "output_type": "stream",
          "name": "stdout",
          "text": [
            "root\n",
            " |-- Id: long (nullable = true)\n",
            " |-- MSSubClass: string (nullable = true)\n",
            " |-- MSZoning: string (nullable = true)\n",
            " |-- LotArea: long (nullable = true)\n",
            " |-- Street: string (nullable = true)\n",
            " |-- LotShape: integer (nullable = true)\n",
            " |-- LandContour: string (nullable = true)\n",
            " |-- Utilities: integer (nullable = true)\n",
            " |-- LotConfig: string (nullable = true)\n",
            " |-- LandSlope: integer (nullable = true)\n",
            " |-- Neighborhood: string (nullable = true)\n",
            " |-- Condition1: string (nullable = true)\n",
            " |-- Condition2: string (nullable = true)\n",
            " |-- BldgType: string (nullable = true)\n",
            " |-- HouseStyle: string (nullable = true)\n",
            " |-- OverallQual: long (nullable = true)\n",
            " |-- OverallCond: long (nullable = true)\n",
            " |-- YearBuilt: long (nullable = true)\n",
            " |-- YearRemodAdd: long (nullable = true)\n",
            " |-- RoofStyle: string (nullable = true)\n",
            " |-- RoofMatl: string (nullable = true)\n",
            " |-- Exterior1st: string (nullable = true)\n",
            " |-- Exterior2nd: string (nullable = true)\n",
            " |-- MasVnrType: string (nullable = true)\n",
            " |-- MasVnrArea: double (nullable = false)\n",
            " |-- ExterQual: integer (nullable = true)\n",
            " |-- ExterCond: integer (nullable = true)\n",
            " |-- Foundation: string (nullable = true)\n",
            " |-- BsmtQual: integer (nullable = false)\n",
            " |-- BsmtCond: integer (nullable = false)\n",
            " |-- BsmtExposure: integer (nullable = false)\n",
            " |-- BsmtFinType1: integer (nullable = false)\n",
            " |-- BsmtFinSF1: long (nullable = true)\n",
            " |-- BsmtFinType2: integer (nullable = false)\n",
            " |-- BsmtFinSF2: long (nullable = true)\n",
            " |-- BsmtUnfSF: long (nullable = true)\n",
            " |-- TotalBsmtSF: long (nullable = true)\n",
            " |-- Heating: string (nullable = true)\n",
            " |-- HeatingQC: integer (nullable = false)\n",
            " |-- CentralAir: integer (nullable = true)\n",
            " |-- Electrical: integer (nullable = false)\n",
            " |-- 1stFlrSF: long (nullable = true)\n",
            " |-- 2ndFlrSF: long (nullable = true)\n",
            " |-- LowQualFinSF: long (nullable = true)\n",
            " |-- GrLivArea: long (nullable = true)\n",
            " |-- BsmtFullBath: long (nullable = true)\n",
            " |-- BsmtHalfBath: long (nullable = true)\n",
            " |-- FullBath: long (nullable = true)\n",
            " |-- HalfBath: long (nullable = true)\n",
            " |-- BedroomAbvGr: long (nullable = true)\n",
            " |-- KitchenAbvGr: long (nullable = true)\n",
            " |-- KitchenQual: integer (nullable = false)\n",
            " |-- TotRmsAbvGrd: long (nullable = true)\n",
            " |-- Functional: integer (nullable = true)\n",
            " |-- Fireplaces: long (nullable = true)\n",
            " |-- GarageType: string (nullable = true)\n",
            " |-- GarageYrBlt: double (nullable = false)\n",
            " |-- GarageFinish: integer (nullable = false)\n",
            " |-- GarageCars: long (nullable = true)\n",
            " |-- GarageArea: long (nullable = true)\n",
            " |-- GarageQual: integer (nullable = false)\n",
            " |-- GarageCond: integer (nullable = false)\n",
            " |-- PavedDrive: integer (nullable = true)\n",
            " |-- WoodDeckSF: long (nullable = true)\n",
            " |-- OpenPorchSF: long (nullable = true)\n",
            " |-- EnclosedPorch: long (nullable = true)\n",
            " |-- 3SsnPorch: long (nullable = true)\n",
            " |-- ScreenPorch: long (nullable = true)\n",
            " |-- PoolArea: long (nullable = true)\n",
            " |-- MiscVal: long (nullable = true)\n",
            " |-- MoSold: long (nullable = true)\n",
            " |-- YrSold: long (nullable = true)\n",
            " |-- SaleType: string (nullable = true)\n",
            " |-- SaleCondition: string (nullable = true)\n",
            " |-- SalePrice: long (nullable = true)\n",
            "\n"
          ]
        }
      ]
    },
    {
      "cell_type": "code",
      "source": [
        "# import scipy.stats as stats\n",
        "\n",
        "# asd=train_df.toPandas()\n",
        "# catlen=[]\n",
        "# for col in train_string_columns:\n",
        "#     catlen.append(asd[col].unique().size)\n",
        "# plt.figure(figsize=(18,16))\n",
        "\n",
        "# for i,col in enumerate(train_string_columns):\n",
        "#     unique_majors = asd[col].unique()\n",
        "#     fig,ax = plt.subplots(nrows=1,ncols=catlen[i])\n",
        "#     for j,major in enumerate(unique_majors):\n",
        "#         stats.probplot(asd[asd[col] == major]['SalePrice'], dist=\"norm\", plot=ax[j])\n",
        "#         plt.title(major)"
      ],
      "metadata": {
        "id": "Xn3yQ3osVHdB"
      },
      "execution_count": null,
      "outputs": []
    },
    {
      "cell_type": "markdown",
      "source": [
        "### Encode Categorical Data"
      ],
      "metadata": {
        "id": "eg8fceMuqLEL"
      }
    },
    {
      "cell_type": "code",
      "source": [
        "# Defining string columns to pass on to the String Indexer (= categorical feature encoding)\n",
        "\n",
        "train_string_columns = []\n",
        "\n",
        "for col, dtype in train_df.dtypes:\n",
        "    if dtype == 'string':\n",
        "        train_string_columns.append(col)\n",
        "print(train_string_columns)"
      ],
      "metadata": {
        "id": "3FFxddOlFJMZ",
        "colab": {
          "base_uri": "https://localhost:8080/"
        },
        "outputId": "9118a205-f5cc-446b-8093-9e449306713d"
      },
      "execution_count": null,
      "outputs": [
        {
          "output_type": "stream",
          "name": "stdout",
          "text": [
            "['MSSubClass', 'MSZoning', 'Street', 'LandContour', 'LotConfig', 'Neighborhood', 'Condition1', 'Condition2', 'BldgType', 'HouseStyle', 'RoofStyle', 'RoofMatl', 'Exterior1st', 'Exterior2nd', 'MasVnrType', 'Foundation', 'Heating', 'GarageType', 'SaleType', 'SaleCondition']\n"
          ]
        }
      ]
    },
    {
      "cell_type": "code",
      "source": [
        "# train_df.agg(*(F.countDistinct(col(c)).alias(c) for c in train_string_columns))\n",
        "train_df.agg(*(F.countDistinct(F.col(c)).alias(c) for c in train_string_columns)).show()\n"
      ],
      "metadata": {
        "id": "clO8L9efX3pm",
        "outputId": "477f30ae-fb91-443a-9104-9933db484d0c",
        "colab": {
          "base_uri": "https://localhost:8080/"
        }
      },
      "execution_count": null,
      "outputs": [
        {
          "output_type": "stream",
          "name": "stdout",
          "text": [
            "+----------+--------+------+-----------+---------+------------+----------+----------+--------+----------+---------+--------+-----------+-----------+----------+----------+-------+----------+--------+-------------+\n",
            "|MSSubClass|MSZoning|Street|LandContour|LotConfig|Neighborhood|Condition1|Condition2|BldgType|HouseStyle|RoofStyle|RoofMatl|Exterior1st|Exterior2nd|MasVnrType|Foundation|Heating|GarageType|SaleType|SaleCondition|\n",
            "+----------+--------+------+-----------+---------+------------+----------+----------+--------+----------+---------+--------+-----------+-----------+----------+----------+-------+----------+--------+-------------+\n",
            "|        15|       5|     2|          4|        5|          25|         9|         8|       5|         8|        6|       8|         15|         16|         5|         6|      6|         7|       9|            6|\n",
            "+----------+--------+------+-----------+---------+------------+----------+----------+--------+----------+---------+--------+-----------+-----------+----------+----------+-------+----------+--------+-------------+\n",
            "\n"
          ]
        }
      ]
    },
    {
      "cell_type": "code",
      "source": [
        "train_df=encodeTarget(train_df,'Neighborhood')\n",
        "train_df=encodeTarget(train_df,'Exterior1st')\n",
        "train_df=encodeTarget(train_df,'Exterior2nd')\n"
      ],
      "metadata": {
        "id": "VxY3byssrHX8"
      },
      "execution_count": null,
      "outputs": []
    },
    {
      "cell_type": "code",
      "source": [
        "train_df.show(5)"
      ],
      "metadata": {
        "colab": {
          "base_uri": "https://localhost:8080/"
        },
        "id": "1AwjjH2ivpO0",
        "outputId": "d68d6d64-8705-4caa-b30f-cfd6877c1e9a"
      },
      "execution_count": null,
      "outputs": [
        {
          "output_type": "stream",
          "name": "stdout",
          "text": [
            "+-----------+-----------+------------+---+----------+--------+-------+------+--------+-----------+---------+---------+---------+----------+----------+--------+----------+-----------+-----------+---------+------------+---------+--------+----------+----------+---------+---------+----------+--------+--------+------------+------------+----------+------------+----------+---------+-----------+-------+---------+----------+----------+--------+--------+------------+---------+------------+------------+--------+--------+------------+------------+-----------+------------+----------+----------+----------+-----------+------------+----------+----------+----------+----------+----------+----------+-----------+-------------+---------+-----------+--------+-------+------+------+--------+-------------+---------+------------------+------------------+------------------+\n",
            "|Exterior2nd|Exterior1st|Neighborhood| Id|MSSubClass|MSZoning|LotArea|Street|LotShape|LandContour|Utilities|LotConfig|LandSlope|Condition1|Condition2|BldgType|HouseStyle|OverallQual|OverallCond|YearBuilt|YearRemodAdd|RoofStyle|RoofMatl|MasVnrType|MasVnrArea|ExterQual|ExterCond|Foundation|BsmtQual|BsmtCond|BsmtExposure|BsmtFinType1|BsmtFinSF1|BsmtFinType2|BsmtFinSF2|BsmtUnfSF|TotalBsmtSF|Heating|HeatingQC|CentralAir|Electrical|1stFlrSF|2ndFlrSF|LowQualFinSF|GrLivArea|BsmtFullBath|BsmtHalfBath|FullBath|HalfBath|BedroomAbvGr|KitchenAbvGr|KitchenQual|TotRmsAbvGrd|Functional|Fireplaces|GarageType|GarageYrBlt|GarageFinish|GarageCars|GarageArea|GarageQual|GarageCond|PavedDrive|WoodDeckSF|OpenPorchSF|EnclosedPorch|3SsnPorch|ScreenPorch|PoolArea|MiscVal|MoSold|YrSold|SaleType|SaleCondition|SalePrice|  Neighborhood_avg|   Exterior1st_avg|   Exterior2nd_avg|\n",
            "+-----------+-----------+------------+---+----------+--------+-------+------+--------+-----------+---------+---------+---------+----------+----------+--------+----------+-----------+-----------+---------+------------+---------+--------+----------+----------+---------+---------+----------+--------+--------+------------+------------+----------+------------+----------+---------+-----------+-------+---------+----------+----------+--------+--------+------------+---------+------------+------------+--------+--------+------------+------------+-----------+------------+----------+----------+----------+-----------+------------+----------+----------+----------+----------+----------+----------+-----------+-------------+---------+-----------+--------+-------+------+------+--------+-------------+---------+------------------+------------------+------------------+\n",
            "|    CmentBd|    CemntBd|     BrkSide|523|        50|      RM|   5000|  Pave|       0|        Lvl|        3|   Corner|        0|     Feedr|      Norm|    1Fam|    1.5Fin|          6|          7|     1947|        1950|    Gable| CompShg|      None|       0.0|        2|        3|    CBlock|       3|       3|           1|           5|       399|           1|         0|      605|       1004|   GasA|        4|         1|         4|    1004|     660|           0|     1664|           0|           0|       2|       0|           3|           1|          2|           7|         6|         2|    Detchd|     1950.0|           1|         2|       420|         3|         3|         2|         0|         24|           36|        0|          0|       0|      0|    10|  2006|      WD|       Normal|   159000|124834.05172413793|231690.65573770492|230093.83333333334|\n",
            "|    CmentBd|    CemntBd|     NridgHt|279|        20|      RL|  14450|  Pave|       0|        Lvl|        3|   Inside|        0|      Norm|      Norm|    1Fam|    1Story|          9|          5|     2006|        2007|    Gable| CompShg|   BrkFace|     315.0|        4|        2|     PConc|       5|       3|           4|           1|         0|           1|         0|     2121|       2121|   GasA|        4|         1|         4|    2121|       0|           0|     2121|           0|           0|       2|       1|           3|           1|          4|           8|         6|         1|    Attchd|     2007.0|           3|         3|       732|         3|         3|         2|       124|         98|            0|        0|        142|       0|      0|     5|  2007|     New|      Partial|   415298| 316270.6233766234|231690.65573770492|230093.83333333334|\n",
            "|    CmentBd|    CemntBd|     NridgHt|350|        60|      RL|  20431|  Pave|       2|        Lvl|        3|   Inside|        0|      Norm|      Norm|    1Fam|    2Story|          9|          5|     2005|        2006|      Hip| CompShg|   BrkFace|     870.0|        4|        2|     PConc|       5|       3|           1|           6|      1410|           1|         0|      438|       1848|   GasA|        4|         1|         4|    1848|     880|           0|     2728|           1|           0|       2|       1|           4|           1|          4|          10|         6|         2|    Attchd|     2006.0|           3|         3|       706|         3|         3|         2|         0|          0|            0|        0|          0|       0|      0|     4|  2006|     New|      Partial|   437154| 316270.6233766234|231690.65573770492|230093.83333333334|\n",
            "|    CmentBd|    CemntBd|     NridgHt|516|        20|      RL|  12220|  Pave|       0|        Lvl|        3|   Inside|        0|      Norm|      Norm|    1Fam|    1Story|         10|          5|     2009|        2009|      Hip| CompShg|   BrkFace|     305.0|        4|        2|    CBlock|       5|       3|           1|           6|      1436|           1|         0|      570|       2006|   GasA|        4|         1|         4|    2020|       0|           0|     2020|           1|           0|       2|       1|           3|           1|          4|           9|         6|         1|    Attchd|     2009.0|           3|         3|       900|         3|         3|         2|       156|         54|            0|        0|          0|       0|      0|     9|  2009|     New|      Partial|   402861| 316270.6233766234|231690.65573770492|230093.83333333334|\n",
            "|    CmentBd|    CemntBd|     NridgHt|592|        60|      RL|  13478|  Pave|       1|        Lvl|        3|   Corner|        0|      Norm|      Norm|    1Fam|    2Story|         10|          5|     2008|        2008|    Gable| CompShg|     Stone|     420.0|        4|        2|     PConc|       5|       3|           4|           6|      1338|           1|         0|      384|       1722|   GasA|        4|         1|         4|    1728|     568|           0|     2296|           1|           0|       2|       1|           3|           1|          4|          10|         6|         1|   BuiltIn|     2008.0|           2|         3|       842|         3|         3|         2|       382|        274|            0|        0|          0|       0|      0|     6|  2009|   ConLI|       Normal|   451950| 316270.6233766234|231690.65573770492|230093.83333333334|\n",
            "+-----------+-----------+------------+---+----------+--------+-------+------+--------+-----------+---------+---------+---------+----------+----------+--------+----------+-----------+-----------+---------+------------+---------+--------+----------+----------+---------+---------+----------+--------+--------+------------+------------+----------+------------+----------+---------+-----------+-------+---------+----------+----------+--------+--------+------------+---------+------------+------------+--------+--------+------------+------------+-----------+------------+----------+----------+----------+-----------+------------+----------+----------+----------+----------+----------+----------+-----------+-------------+---------+-----------+--------+-------+------+------+--------+-------------+---------+------------------+------------------+------------------+\n",
            "only showing top 5 rows\n",
            "\n"
          ]
        }
      ]
    },
    {
      "cell_type": "code",
      "source": [
        "from pyspark.ml import Pipeline\n",
        "from pyspark.ml.feature import StringIndexer\n",
        "\n",
        "\n",
        "indexers = [StringIndexer(inputCol=column, outputCol=column+'_index', handleInvalid='keep').fit(train_df) for column in train_string_columns if column not in ['Neighborhood','Exterior1st','Exterior2nd'] ]\n",
        "\n",
        "\n",
        "pipeline = Pipeline(stages=indexers)\n"
      ],
      "metadata": {
        "id": "L4sKgM7cFLNn"
      },
      "execution_count": null,
      "outputs": []
    },
    {
      "cell_type": "code",
      "source": [
        "train_indexed = pipeline.fit(train_df).transform(train_df)"
      ],
      "metadata": {
        "id": "lkMj4DWG-h53"
      },
      "execution_count": null,
      "outputs": []
    },
    {
      "cell_type": "code",
      "source": [
        "train_df.show(5)"
      ],
      "metadata": {
        "colab": {
          "base_uri": "https://localhost:8080/"
        },
        "id": "1QfHz5WYyzj3",
        "outputId": "94f0eaff-b3bc-4cbc-db10-857dc217b670"
      },
      "execution_count": null,
      "outputs": [
        {
          "output_type": "stream",
          "name": "stdout",
          "text": [
            "+-----------+-----------+------------+---+----------+--------+-------+------+--------+-----------+---------+---------+---------+----------+----------+--------+----------+-----------+-----------+---------+------------+---------+--------+----------+----------+---------+---------+----------+--------+--------+------------+------------+----------+------------+----------+---------+-----------+-------+---------+----------+----------+--------+--------+------------+---------+------------+------------+--------+--------+------------+------------+-----------+------------+----------+----------+----------+-----------+------------+----------+----------+----------+----------+----------+----------+-----------+-------------+---------+-----------+--------+-------+------+------+--------+-------------+---------+------------------+------------------+------------------+\n",
            "|Exterior2nd|Exterior1st|Neighborhood| Id|MSSubClass|MSZoning|LotArea|Street|LotShape|LandContour|Utilities|LotConfig|LandSlope|Condition1|Condition2|BldgType|HouseStyle|OverallQual|OverallCond|YearBuilt|YearRemodAdd|RoofStyle|RoofMatl|MasVnrType|MasVnrArea|ExterQual|ExterCond|Foundation|BsmtQual|BsmtCond|BsmtExposure|BsmtFinType1|BsmtFinSF1|BsmtFinType2|BsmtFinSF2|BsmtUnfSF|TotalBsmtSF|Heating|HeatingQC|CentralAir|Electrical|1stFlrSF|2ndFlrSF|LowQualFinSF|GrLivArea|BsmtFullBath|BsmtHalfBath|FullBath|HalfBath|BedroomAbvGr|KitchenAbvGr|KitchenQual|TotRmsAbvGrd|Functional|Fireplaces|GarageType|GarageYrBlt|GarageFinish|GarageCars|GarageArea|GarageQual|GarageCond|PavedDrive|WoodDeckSF|OpenPorchSF|EnclosedPorch|3SsnPorch|ScreenPorch|PoolArea|MiscVal|MoSold|YrSold|SaleType|SaleCondition|SalePrice|  Neighborhood_avg|   Exterior1st_avg|   Exterior2nd_avg|\n",
            "+-----------+-----------+------------+---+----------+--------+-------+------+--------+-----------+---------+---------+---------+----------+----------+--------+----------+-----------+-----------+---------+------------+---------+--------+----------+----------+---------+---------+----------+--------+--------+------------+------------+----------+------------+----------+---------+-----------+-------+---------+----------+----------+--------+--------+------------+---------+------------+------------+--------+--------+------------+------------+-----------+------------+----------+----------+----------+-----------+------------+----------+----------+----------+----------+----------+----------+-----------+-------------+---------+-----------+--------+-------+------+------+--------+-------------+---------+------------------+------------------+------------------+\n",
            "|    CmentBd|    CemntBd|     BrkSide|523|        50|      RM|   5000|  Pave|       0|        Lvl|        3|   Corner|        0|     Feedr|      Norm|    1Fam|    1.5Fin|          6|          7|     1947|        1950|    Gable| CompShg|      None|       0.0|        2|        3|    CBlock|       3|       3|           1|           5|       399|           1|         0|      605|       1004|   GasA|        4|         1|         4|    1004|     660|           0|     1664|           0|           0|       2|       0|           3|           1|          2|           7|         6|         2|    Detchd|     1950.0|           1|         2|       420|         3|         3|         2|         0|         24|           36|        0|          0|       0|      0|    10|  2006|      WD|       Normal|   159000|124834.05172413793|231690.65573770492|230093.83333333334|\n",
            "|    CmentBd|    CemntBd|     NridgHt|279|        20|      RL|  14450|  Pave|       0|        Lvl|        3|   Inside|        0|      Norm|      Norm|    1Fam|    1Story|          9|          5|     2006|        2007|    Gable| CompShg|   BrkFace|     315.0|        4|        2|     PConc|       5|       3|           4|           1|         0|           1|         0|     2121|       2121|   GasA|        4|         1|         4|    2121|       0|           0|     2121|           0|           0|       2|       1|           3|           1|          4|           8|         6|         1|    Attchd|     2007.0|           3|         3|       732|         3|         3|         2|       124|         98|            0|        0|        142|       0|      0|     5|  2007|     New|      Partial|   415298| 316270.6233766234|231690.65573770492|230093.83333333334|\n",
            "|    CmentBd|    CemntBd|     NridgHt|350|        60|      RL|  20431|  Pave|       2|        Lvl|        3|   Inside|        0|      Norm|      Norm|    1Fam|    2Story|          9|          5|     2005|        2006|      Hip| CompShg|   BrkFace|     870.0|        4|        2|     PConc|       5|       3|           1|           6|      1410|           1|         0|      438|       1848|   GasA|        4|         1|         4|    1848|     880|           0|     2728|           1|           0|       2|       1|           4|           1|          4|          10|         6|         2|    Attchd|     2006.0|           3|         3|       706|         3|         3|         2|         0|          0|            0|        0|          0|       0|      0|     4|  2006|     New|      Partial|   437154| 316270.6233766234|231690.65573770492|230093.83333333334|\n",
            "|    CmentBd|    CemntBd|     NridgHt|516|        20|      RL|  12220|  Pave|       0|        Lvl|        3|   Inside|        0|      Norm|      Norm|    1Fam|    1Story|         10|          5|     2009|        2009|      Hip| CompShg|   BrkFace|     305.0|        4|        2|    CBlock|       5|       3|           1|           6|      1436|           1|         0|      570|       2006|   GasA|        4|         1|         4|    2020|       0|           0|     2020|           1|           0|       2|       1|           3|           1|          4|           9|         6|         1|    Attchd|     2009.0|           3|         3|       900|         3|         3|         2|       156|         54|            0|        0|          0|       0|      0|     9|  2009|     New|      Partial|   402861| 316270.6233766234|231690.65573770492|230093.83333333334|\n",
            "|    CmentBd|    CemntBd|     NridgHt|592|        60|      RL|  13478|  Pave|       1|        Lvl|        3|   Corner|        0|      Norm|      Norm|    1Fam|    2Story|         10|          5|     2008|        2008|    Gable| CompShg|     Stone|     420.0|        4|        2|     PConc|       5|       3|           4|           6|      1338|           1|         0|      384|       1722|   GasA|        4|         1|         4|    1728|     568|           0|     2296|           1|           0|       2|       1|           3|           1|          4|          10|         6|         1|   BuiltIn|     2008.0|           2|         3|       842|         3|         3|         2|       382|        274|            0|        0|          0|       0|      0|     6|  2009|   ConLI|       Normal|   451950| 316270.6233766234|231690.65573770492|230093.83333333334|\n",
            "+-----------+-----------+------------+---+----------+--------+-------+------+--------+-----------+---------+---------+---------+----------+----------+--------+----------+-----------+-----------+---------+------------+---------+--------+----------+----------+---------+---------+----------+--------+--------+------------+------------+----------+------------+----------+---------+-----------+-------+---------+----------+----------+--------+--------+------------+---------+------------+------------+--------+--------+------------+------------+-----------+------------+----------+----------+----------+-----------+------------+----------+----------+----------+----------+----------+----------+-----------+-------------+---------+-----------+--------+-------+------+------+--------+-------------+---------+------------------+------------------+------------------+\n",
            "only showing top 5 rows\n",
            "\n"
          ]
        }
      ]
    },
    {
      "cell_type": "code",
      "source": [
        "print(train_indexed.columns)"
      ],
      "metadata": {
        "colab": {
          "base_uri": "https://localhost:8080/"
        },
        "id": "XVY0YB_tFNET",
        "outputId": "eeb646f4-8b00-4201-e1bb-c6a1a79000b9"
      },
      "execution_count": null,
      "outputs": [
        {
          "output_type": "stream",
          "name": "stdout",
          "text": [
            "['Exterior2nd', 'Exterior1st', 'Neighborhood', 'Id', 'MSSubClass', 'MSZoning', 'LotArea', 'Street', 'LotShape', 'LandContour', 'Utilities', 'LotConfig', 'LandSlope', 'Condition1', 'Condition2', 'BldgType', 'HouseStyle', 'OverallQual', 'OverallCond', 'YearBuilt', 'YearRemodAdd', 'RoofStyle', 'RoofMatl', 'MasVnrType', 'MasVnrArea', 'ExterQual', 'ExterCond', 'Foundation', 'BsmtQual', 'BsmtCond', 'BsmtExposure', 'BsmtFinType1', 'BsmtFinSF1', 'BsmtFinType2', 'BsmtFinSF2', 'BsmtUnfSF', 'TotalBsmtSF', 'Heating', 'HeatingQC', 'CentralAir', 'Electrical', '1stFlrSF', '2ndFlrSF', 'LowQualFinSF', 'GrLivArea', 'BsmtFullBath', 'BsmtHalfBath', 'FullBath', 'HalfBath', 'BedroomAbvGr', 'KitchenAbvGr', 'KitchenQual', 'TotRmsAbvGrd', 'Functional', 'Fireplaces', 'GarageType', 'GarageYrBlt', 'GarageFinish', 'GarageCars', 'GarageArea', 'GarageQual', 'GarageCond', 'PavedDrive', 'WoodDeckSF', 'OpenPorchSF', 'EnclosedPorch', '3SsnPorch', 'ScreenPorch', 'PoolArea', 'MiscVal', 'MoSold', 'YrSold', 'SaleType', 'SaleCondition', 'SalePrice', 'Neighborhood_avg', 'Exterior1st_avg', 'Exterior2nd_avg', 'MSSubClass_index', 'MSZoning_index', 'Street_index', 'LandContour_index', 'LotConfig_index', 'Condition1_index', 'Condition2_index', 'BldgType_index', 'HouseStyle_index', 'RoofStyle_index', 'RoofMatl_index', 'MasVnrType_index', 'Foundation_index', 'Heating_index', 'GarageType_index', 'SaleType_index', 'SaleCondition_index']\n"
          ]
        }
      ]
    },
    {
      "cell_type": "code",
      "source": [
        "train_feat=[x for x in numerical_feat if (x!=\"Id\" )]+[x for x in train_indexed.columns if \"_\" in x]"
      ],
      "metadata": {
        "id": "pSXw7T8b1-Fu"
      },
      "execution_count": null,
      "outputs": []
    },
    {
      "cell_type": "code",
      "source": [
        "train_feat"
      ],
      "metadata": {
        "colab": {
          "base_uri": "https://localhost:8080/"
        },
        "id": "tdWj7RCG-KZ7",
        "outputId": "6c8d09d7-15ad-449e-bcd1-212caf23475f"
      },
      "execution_count": null,
      "outputs": [
        {
          "output_type": "execute_result",
          "data": {
            "text/plain": [
              "['LotArea',\n",
              " 'LotShape',\n",
              " 'Utilities',\n",
              " 'LandSlope',\n",
              " 'OverallQual',\n",
              " 'OverallCond',\n",
              " 'YearBuilt',\n",
              " 'YearRemodAdd',\n",
              " 'MasVnrArea',\n",
              " 'ExterQual',\n",
              " 'ExterCond',\n",
              " 'BsmtQual',\n",
              " 'BsmtCond',\n",
              " 'BsmtExposure',\n",
              " 'BsmtFinType1',\n",
              " 'BsmtFinSF1',\n",
              " 'BsmtFinType2',\n",
              " 'BsmtFinSF2',\n",
              " 'BsmtUnfSF',\n",
              " 'TotalBsmtSF',\n",
              " 'HeatingQC',\n",
              " 'CentralAir',\n",
              " 'Electrical',\n",
              " '1stFlrSF',\n",
              " '2ndFlrSF',\n",
              " 'LowQualFinSF',\n",
              " 'GrLivArea',\n",
              " 'BsmtFullBath',\n",
              " 'BsmtHalfBath',\n",
              " 'FullBath',\n",
              " 'HalfBath',\n",
              " 'BedroomAbvGr',\n",
              " 'KitchenAbvGr',\n",
              " 'KitchenQual',\n",
              " 'TotRmsAbvGrd',\n",
              " 'Functional',\n",
              " 'Fireplaces',\n",
              " 'GarageYrBlt',\n",
              " 'GarageFinish',\n",
              " 'GarageCars',\n",
              " 'GarageArea',\n",
              " 'GarageQual',\n",
              " 'GarageCond',\n",
              " 'PavedDrive',\n",
              " 'WoodDeckSF',\n",
              " 'OpenPorchSF',\n",
              " 'EnclosedPorch',\n",
              " '3SsnPorch',\n",
              " 'ScreenPorch',\n",
              " 'PoolArea',\n",
              " 'MiscVal',\n",
              " 'MoSold',\n",
              " 'YrSold',\n",
              " 'SalePrice',\n",
              " 'Neighborhood_avg',\n",
              " 'Exterior1st_avg',\n",
              " 'Exterior2nd_avg',\n",
              " 'MSSubClass_index',\n",
              " 'MSZoning_index',\n",
              " 'Street_index',\n",
              " 'LandContour_index',\n",
              " 'LotConfig_index',\n",
              " 'Condition1_index',\n",
              " 'Condition2_index',\n",
              " 'BldgType_index',\n",
              " 'HouseStyle_index',\n",
              " 'RoofStyle_index',\n",
              " 'RoofMatl_index',\n",
              " 'MasVnrType_index',\n",
              " 'Foundation_index',\n",
              " 'Heating_index',\n",
              " 'GarageType_index',\n",
              " 'SaleType_index',\n",
              " 'SaleCondition_index']"
            ]
          },
          "metadata": {},
          "execution_count": 30
        }
      ]
    },
    {
      "cell_type": "code",
      "source": [
        "# test_string_columns = []\n",
        "\n",
        "# for col, dtype in test_df.dtypes:\n",
        "#     if dtype == 'string':\n",
        "#         test_string_columns.append(col)"
      ],
      "metadata": {
        "id": "uJt63ZBBFPfl"
      },
      "execution_count": null,
      "outputs": []
    },
    {
      "cell_type": "code",
      "source": [
        "# indexers2 = [StringIndexer(inputCol=column, outputCol=column+'_index', handleInvalid='keep').fit(test_df) for column in test_string_columns]\n",
        "\n",
        "# pipeline2 = Pipeline(stages=indexers2)\n",
        "# test_indexed = pipeline2.fit(test_df).transform(test_df)"
      ],
      "metadata": {
        "id": "GgqZl20MFRSh"
      },
      "execution_count": null,
      "outputs": []
    },
    {
      "cell_type": "code",
      "source": [
        "# print(len(test_indexed.columns))"
      ],
      "metadata": {
        "id": "vx1nOvbsFStJ"
      },
      "execution_count": null,
      "outputs": []
    },
    {
      "cell_type": "code",
      "source": [
        "# def get_dtype(df,colname):\n",
        "#     return [dtype for name, dtype in df.dtypes if name == colname][0]\n",
        "\n",
        "# num_cols_train = []\n",
        "# for col in train_indexed.columns:\n",
        "#     if get_dtype(train_indexed,col) != 'string':\n",
        "#         num_cols_train.append(str(col))\n",
        "        \n",
        "# num_cols_test = []\n",
        "# for col in test_indexed.columns:\n",
        "#     if get_dtype(test_indexed,col) != 'string':\n",
        "#         num_cols_test.append(str(col))\n",
        "\n",
        "train_indexed = train_indexed.select(train_feat)\n",
        "# test_indexed = test_indexed.select(num_cols_test)"
      ],
      "metadata": {
        "id": "wfiEenhWFUtE"
      },
      "execution_count": null,
      "outputs": []
    },
    {
      "cell_type": "code",
      "source": [
        "print(set(train_feat).symmetric_difference(train_indexed.columns))\n",
        "# print(len(test_indexed.columns))"
      ],
      "metadata": {
        "colab": {
          "base_uri": "https://localhost:8080/"
        },
        "id": "A-bSsGZzFWlw",
        "outputId": "30884b2d-d440-4989-cd56-8d17f681ee2c"
      },
      "execution_count": null,
      "outputs": [
        {
          "output_type": "stream",
          "name": "stdout",
          "text": [
            "set()\n"
          ]
        }
      ]
    },
    {
      "cell_type": "code",
      "source": [
        "# pd_train['New'] = pd_train['OverallQual'] * pd_train['GarageArea'] * pd_train['GrLivArea']\n",
        "# pd_test['New'] = pd_test['OverallQual'] * pd_test['GarageArea'] * pd_test['GrLivArea']\n",
        "\n",
        "# As some of the contestants have noticed, this results in a spike in model performance later"
      ],
      "metadata": {
        "id": "Z-B-R9DvEulS"
      },
      "execution_count": null,
      "outputs": []
    },
    {
      "cell_type": "markdown",
      "source": [
        "### 3. Model building (MLlib)"
      ],
      "metadata": {
        "id": "sU6PLary_WMg"
      }
    },
    {
      "cell_type": "code",
      "source": [
        "from pyspark.ml.feature import VectorAssembler\n",
        "vectorAssembler = VectorAssembler(inputCols = train_indexed.drop(\"SalePrice\").columns, outputCol = 'features').setHandleInvalid(\"keep\")\n",
        "\n",
        "train_vector = vectorAssembler.transform(train_indexed)"
      ],
      "metadata": {
        "id": "hUZr_A7HFYOk"
      },
      "execution_count": null,
      "outputs": []
    },
    {
      "cell_type": "code",
      "source": [
        "train_vector.show(5)"
      ],
      "metadata": {
        "colab": {
          "base_uri": "https://localhost:8080/"
        },
        "id": "xOZPz7Jv7Jis",
        "outputId": "0cde9f41-69c6-4236-c245-e71a55b4b3c3"
      },
      "execution_count": null,
      "outputs": [
        {
          "output_type": "stream",
          "name": "stdout",
          "text": [
            "+-------+--------+---------+---------+-----------+-----------+---------+------------+----------+---------+---------+--------+--------+------------+------------+----------+------------+----------+---------+-----------+---------+----------+----------+--------+--------+------------+---------+------------+------------+--------+--------+------------+------------+-----------+------------+----------+----------+-----------+------------+----------+----------+----------+----------+----------+----------+-----------+-------------+---------+-----------+--------+-------+------+------+---------+------------------+------------------+------------------+----------------+--------------+------------+-----------------+---------------+----------------+----------------+--------------+----------------+---------------+--------------+----------------+----------------+-------------+----------------+--------------+-------------------+--------------------+\n",
            "|LotArea|LotShape|Utilities|LandSlope|OverallQual|OverallCond|YearBuilt|YearRemodAdd|MasVnrArea|ExterQual|ExterCond|BsmtQual|BsmtCond|BsmtExposure|BsmtFinType1|BsmtFinSF1|BsmtFinType2|BsmtFinSF2|BsmtUnfSF|TotalBsmtSF|HeatingQC|CentralAir|Electrical|1stFlrSF|2ndFlrSF|LowQualFinSF|GrLivArea|BsmtFullBath|BsmtHalfBath|FullBath|HalfBath|BedroomAbvGr|KitchenAbvGr|KitchenQual|TotRmsAbvGrd|Functional|Fireplaces|GarageYrBlt|GarageFinish|GarageCars|GarageArea|GarageQual|GarageCond|PavedDrive|WoodDeckSF|OpenPorchSF|EnclosedPorch|3SsnPorch|ScreenPorch|PoolArea|MiscVal|MoSold|YrSold|SalePrice|  Neighborhood_avg|   Exterior1st_avg|   Exterior2nd_avg|MSSubClass_index|MSZoning_index|Street_index|LandContour_index|LotConfig_index|Condition1_index|Condition2_index|BldgType_index|HouseStyle_index|RoofStyle_index|RoofMatl_index|MasVnrType_index|Foundation_index|Heating_index|GarageType_index|SaleType_index|SaleCondition_index|            features|\n",
            "+-------+--------+---------+---------+-----------+-----------+---------+------------+----------+---------+---------+--------+--------+------------+------------+----------+------------+----------+---------+-----------+---------+----------+----------+--------+--------+------------+---------+------------+------------+--------+--------+------------+------------+-----------+------------+----------+----------+-----------+------------+----------+----------+----------+----------+----------+----------+-----------+-------------+---------+-----------+--------+-------+------+------+---------+------------------+------------------+------------------+----------------+--------------+------------+-----------------+---------------+----------------+----------------+--------------+----------------+---------------+--------------+----------------+----------------+-------------+----------------+--------------+-------------------+--------------------+\n",
            "|   5000|       0|        3|        0|          6|          7|     1947|        1950|       0.0|        2|        3|       3|       3|           1|           5|       399|           1|         0|      605|       1004|        4|         1|         4|    1004|     660|           0|     1664|           0|           0|       2|       0|           3|           1|          2|           7|         6|         2|     1950.0|           1|         2|       420|         3|         3|         2|         0|         24|           36|        0|          0|       0|      0|    10|  2006|   159000|124834.05172413793|231690.65573770492|230093.83333333334|             2.0|           1.0|         0.0|              0.0|            1.0|             1.0|             0.0|           0.0|             2.0|            0.0|           0.0|             0.0|             1.0|          0.0|             1.0|           0.0|                0.0|[5000.0,0.0,3.0,0...|\n",
            "|  14450|       0|        3|        0|          9|          5|     2006|        2007|     315.0|        4|        2|       5|       3|           4|           1|         0|           1|         0|     2121|       2121|        4|         1|         4|    2121|       0|           0|     2121|           0|           0|       2|       1|           3|           1|          4|           8|         6|         1|     2007.0|           3|         3|       732|         3|         3|         2|       124|         98|            0|        0|        142|       0|      0|     5|  2007|   415298| 316270.6233766234|231690.65573770492|230093.83333333334|             0.0|           0.0|         0.0|              0.0|            0.0|             0.0|             0.0|           0.0|             0.0|            0.0|           0.0|             1.0|             0.0|          0.0|             0.0|           1.0|                1.0|(73,[0,2,4,5,6,7,...|\n",
            "|  20431|       2|        3|        0|          9|          5|     2005|        2006|     870.0|        4|        2|       5|       3|           1|           6|      1410|           1|         0|      438|       1848|        4|         1|         4|    1848|     880|           0|     2728|           1|           0|       2|       1|           4|           1|          4|          10|         6|         2|     2006.0|           3|         3|       706|         3|         3|         2|         0|          0|            0|        0|          0|       0|      0|     4|  2006|   437154| 316270.6233766234|231690.65573770492|230093.83333333334|             1.0|           0.0|         0.0|              0.0|            0.0|             0.0|             0.0|           0.0|             1.0|            1.0|           0.0|             1.0|             0.0|          0.0|             0.0|           1.0|                1.0|[20431.0,2.0,3.0,...|\n",
            "|  12220|       0|        3|        0|         10|          5|     2009|        2009|     305.0|        4|        2|       5|       3|           1|           6|      1436|           1|         0|      570|       2006|        4|         1|         4|    2020|       0|           0|     2020|           1|           0|       2|       1|           3|           1|          4|           9|         6|         1|     2009.0|           3|         3|       900|         3|         3|         2|       156|         54|            0|        0|          0|       0|      0|     9|  2009|   402861| 316270.6233766234|231690.65573770492|230093.83333333334|             0.0|           0.0|         0.0|              0.0|            0.0|             0.0|             0.0|           0.0|             0.0|            1.0|           0.0|             1.0|             1.0|          0.0|             0.0|           1.0|                1.0|[12220.0,0.0,3.0,...|\n",
            "|  13478|       1|        3|        0|         10|          5|     2008|        2008|     420.0|        4|        2|       5|       3|           4|           6|      1338|           1|         0|      384|       1722|        4|         1|         4|    1728|     568|           0|     2296|           1|           0|       2|       1|           3|           1|          4|          10|         6|         1|     2008.0|           2|         3|       842|         3|         3|         2|       382|        274|            0|        0|          0|       0|      0|     6|  2009|   451950| 316270.6233766234|231690.65573770492|230093.83333333334|             1.0|           0.0|         0.0|              0.0|            1.0|             0.0|             0.0|           0.0|             1.0|            0.0|           0.0|             2.0|             0.0|          0.0|             2.0|           4.0|                0.0|[13478.0,1.0,3.0,...|\n",
            "+-------+--------+---------+---------+-----------+-----------+---------+------------+----------+---------+---------+--------+--------+------------+------------+----------+------------+----------+---------+-----------+---------+----------+----------+--------+--------+------------+---------+------------+------------+--------+--------+------------+------------+-----------+------------+----------+----------+-----------+------------+----------+----------+----------+----------+----------+----------+-----------+-------------+---------+-----------+--------+-------+------+------+---------+------------------+------------------+------------------+----------------+--------------+------------+-----------------+---------------+----------------+----------------+--------------+----------------+---------------+--------------+----------------+----------------+-------------+----------------+--------------+-------------------+--------------------+\n",
            "only showing top 5 rows\n",
            "\n"
          ]
        }
      ]
    },
    {
      "cell_type": "code",
      "source": [
        "# vectorAssembler2 = VectorAssembler(inputCols = test_indexed.columns, outputCol = 'features').setHandleInvalid(\"keep\")\n",
        "\n",
        "# test_vector = vectorAssembler2.transform(test_indexed)"
      ],
      "metadata": {
        "id": "K4pjbmuyFZzi"
      },
      "execution_count": null,
      "outputs": []
    },
    {
      "cell_type": "code",
      "source": [
        "# from pyspark.sql.functions import lit\n",
        "\n",
        "# test_vector = test_vector.withColumn(\"SalePrice\", lit(0))"
      ],
      "metadata": {
        "id": "yQ0_DEGMFbae"
      },
      "execution_count": null,
      "outputs": []
    },
    {
      "cell_type": "code",
      "source": [
        "# Train-test split\n",
        "\n",
        "splits = train_vector.randomSplit([0.7, 0.3])\n",
        "train = splits[0]\n",
        "val = splits[1]"
      ],
      "metadata": {
        "id": "CKefHKfAFgtq"
      },
      "execution_count": null,
      "outputs": []
    },
    {
      "cell_type": "code",
      "source": [
        "# Full Feature\n",
        "\n",
        "from pyspark.ml.regression import LinearRegression\n",
        "\n",
        "lr = LinearRegression(featuresCol = 'features', labelCol='SalePrice', maxIter=10, \n",
        "                      regParam=0.8, elasticNetParam=0.1) # It is always a good idea to play with hyperparameters.\n",
        "lr_model = lr.fit(train)\n",
        "\n",
        "trainingSummary = lr_model.summary\n",
        "print(\"RMSE: %f\" % trainingSummary.rootMeanSquaredError)\n",
        "print(\"r2: %f\" % trainingSummary.r2)\n",
        "\n",
        "lr_predictions = lr_model.transform(val)\n",
        "lr_predictions.select(\"prediction\",\"SalePrice\",\"features\").show(5)\n",
        "\n",
        "from pyspark.ml.evaluation import RegressionEvaluator\n",
        "lr_evaluator = RegressionEvaluator(predictionCol=\"prediction\", \\\n",
        "                 labelCol=\"SalePrice\",metricName=\"r2\")\n",
        "print(\"R Squared (R2) on val data = %g\" % lr_evaluator.evaluate(lr_predictions))"
      ],
      "metadata": {
        "colab": {
          "base_uri": "https://localhost:8080/"
        },
        "id": "7GS47zb_FhZS",
        "outputId": "c0819bf8-d8a4-48b5-8b7c-f7ea9c715df4"
      },
      "execution_count": null,
      "outputs": [
        {
          "output_type": "stream",
          "name": "stdout",
          "text": [
            "RMSE: 27562.542930\n",
            "r2: 0.884852\n",
            "+-----------------+---------+--------------------+\n",
            "|       prediction|SalePrice|            features|\n",
            "+-----------------+---------+--------------------+\n",
            "|122667.6713575105|   124000|[1300.0,0.0,3.0,0...|\n",
            "|51932.50635172444|    80000|(73,[0,2,4,5,6,7,...|\n",
            "| 63095.4498482903|    75500|(73,[0,2,4,5,6,7,...|\n",
            "|73030.74820283498|    86000|(73,[0,2,4,5,6,7,...|\n",
            "| 87274.0862231201|   112000|[1680.0,0.0,3.0,0...|\n",
            "+-----------------+---------+--------------------+\n",
            "only showing top 5 rows\n",
            "\n",
            "R Squared (R2) on val data = 0.67892\n"
          ]
        }
      ]
    },
    {
      "cell_type": "code",
      "source": [
        "top_feat=corr[['SalePrice']].sort_values(by='SalePrice',ascending=False).index.to_list()[1:14]+[\"Neighborhood_avg\",\"Foundation_index\",\"GarageType_index\",\"MSSubClass_index\",\"MasVnrType_index\"]"
      ],
      "metadata": {
        "id": "iN8dTl5P_b1F"
      },
      "execution_count": null,
      "outputs": []
    },
    {
      "cell_type": "code",
      "source": [
        "vectorAssembler_top = VectorAssembler(inputCols = top_feat, outputCol = 'features_top').setHandleInvalid(\"keep\")\n",
        "\n",
        "train_vector_top = vectorAssembler_top.transform(train_indexed)"
      ],
      "metadata": {
        "id": "Cw6V7VUbA3ig"
      },
      "execution_count": null,
      "outputs": []
    },
    {
      "cell_type": "code",
      "source": [
        "train_vector_top.show(1)"
      ],
      "metadata": {
        "colab": {
          "base_uri": "https://localhost:8080/"
        },
        "id": "PDm7jmoWBobF",
        "outputId": "e76ea9d5-d36c-4f4b-bb60-d251ac744f59"
      },
      "execution_count": null,
      "outputs": [
        {
          "output_type": "stream",
          "name": "stdout",
          "text": [
            "+-------+--------+---------+---------+-----------+-----------+---------+------------+----------+---------+---------+--------+--------+------------+------------+----------+------------+----------+---------+-----------+---------+----------+----------+--------+--------+------------+---------+------------+------------+--------+--------+------------+------------+-----------+------------+----------+----------+-----------+------------+----------+----------+----------+----------+----------+----------+-----------+-------------+---------+-----------+--------+-------+------+------+---------+------------------+------------------+------------------+----------------+--------------+------------+-----------------+---------------+----------------+----------------+--------------+----------------+---------------+--------------+----------------+----------------+-------------+----------------+--------------+-------------------+--------------------+\n",
            "|LotArea|LotShape|Utilities|LandSlope|OverallQual|OverallCond|YearBuilt|YearRemodAdd|MasVnrArea|ExterQual|ExterCond|BsmtQual|BsmtCond|BsmtExposure|BsmtFinType1|BsmtFinSF1|BsmtFinType2|BsmtFinSF2|BsmtUnfSF|TotalBsmtSF|HeatingQC|CentralAir|Electrical|1stFlrSF|2ndFlrSF|LowQualFinSF|GrLivArea|BsmtFullBath|BsmtHalfBath|FullBath|HalfBath|BedroomAbvGr|KitchenAbvGr|KitchenQual|TotRmsAbvGrd|Functional|Fireplaces|GarageYrBlt|GarageFinish|GarageCars|GarageArea|GarageQual|GarageCond|PavedDrive|WoodDeckSF|OpenPorchSF|EnclosedPorch|3SsnPorch|ScreenPorch|PoolArea|MiscVal|MoSold|YrSold|SalePrice|  Neighborhood_avg|   Exterior1st_avg|   Exterior2nd_avg|MSSubClass_index|MSZoning_index|Street_index|LandContour_index|LotConfig_index|Condition1_index|Condition2_index|BldgType_index|HouseStyle_index|RoofStyle_index|RoofMatl_index|MasVnrType_index|Foundation_index|Heating_index|GarageType_index|SaleType_index|SaleCondition_index|        features_top|\n",
            "+-------+--------+---------+---------+-----------+-----------+---------+------------+----------+---------+---------+--------+--------+------------+------------+----------+------------+----------+---------+-----------+---------+----------+----------+--------+--------+------------+---------+------------+------------+--------+--------+------------+------------+-----------+------------+----------+----------+-----------+------------+----------+----------+----------+----------+----------+----------+-----------+-------------+---------+-----------+--------+-------+------+------+---------+------------------+------------------+------------------+----------------+--------------+------------+-----------------+---------------+----------------+----------------+--------------+----------------+---------------+--------------+----------------+----------------+-------------+----------------+--------------+-------------------+--------------------+\n",
            "|   5000|       0|        3|        0|          6|          7|     1947|        1950|       0.0|        2|        3|       3|       3|           1|           5|       399|           1|         0|      605|       1004|        4|         1|         4|    1004|     660|           0|     1664|           0|           0|       2|       0|           3|           1|          2|           7|         6|         2|     1950.0|           1|         2|       420|         3|         3|         2|         0|         24|           36|        0|          0|       0|      0|    10|  2006|   159000|124834.05172413793|231690.65573770492|230093.83333333334|             2.0|           1.0|         0.0|              0.0|            1.0|             1.0|             0.0|           0.0|             2.0|            0.0|           0.0|             0.0|             1.0|          0.0|             1.0|           0.0|                0.0|[6.0,1664.0,2.0,4...|\n",
            "+-------+--------+---------+---------+-----------+-----------+---------+------------+----------+---------+---------+--------+--------+------------+------------+----------+------------+----------+---------+-----------+---------+----------+----------+--------+--------+------------+---------+------------+------------+--------+--------+------------+------------+-----------+------------+----------+----------+-----------+------------+----------+----------+----------+----------+----------+----------+-----------+-------------+---------+-----------+--------+-------+------+------+---------+------------------+------------------+------------------+----------------+--------------+------------+-----------------+---------------+----------------+----------------+--------------+----------------+---------------+--------------+----------------+----------------+-------------+----------------+--------------+-------------------+--------------------+\n",
            "only showing top 1 row\n",
            "\n"
          ]
        }
      ]
    },
    {
      "cell_type": "code",
      "source": [
        "# Train-test split\n",
        "\n",
        "splits_top = train_vector_top.randomSplit([0.7, 0.3])\n",
        "train_top = splits_top[0]\n",
        "val_top= splits_top[1]"
      ],
      "metadata": {
        "id": "_M3DcraEBR2G"
      },
      "execution_count": null,
      "outputs": []
    },
    {
      "cell_type": "code",
      "source": [
        "# Simple baseline (linreg)\n",
        "\n",
        "from pyspark.ml.regression import LinearRegression\n",
        "\n",
        "lr = LinearRegression(featuresCol = 'features_top', labelCol='SalePrice', maxIter=10, \n",
        "                      regParam=0.8, elasticNetParam=0.1) # It is always a good idea to play with hyperparameters.\n",
        "lr_model = lr.fit(train_top)\n",
        "\n",
        "trainingSummary = lr_model.summary\n",
        "print(\"RMSE: %f\" % trainingSummary.rootMeanSquaredError)\n",
        "print(\"r2: %f\" % trainingSummary.r2)\n",
        "\n",
        "lr_predictions = lr_model.transform(val_top)\n",
        "lr_predictions.select(\"prediction\",\"SalePrice\",\"features_top\").show(5)\n",
        "\n",
        "from pyspark.ml.evaluation import RegressionEvaluator\n",
        "lr_evaluator = RegressionEvaluator(predictionCol=\"prediction\", \\\n",
        "                 labelCol=\"SalePrice\",metricName=\"r2\")\n",
        "print(\"R Squared (R2) on val data = %g\" % lr_evaluator.evaluate(lr_predictions))"
      ],
      "metadata": {
        "colab": {
          "base_uri": "https://localhost:8080/"
        },
        "outputId": "4221dfe9-b97c-4881-ef69-61e1fcb72cba",
        "id": "YycTnHh0BR2G"
      },
      "execution_count": null,
      "outputs": [
        {
          "output_type": "stream",
          "name": "stdout",
          "text": [
            "RMSE: 30368.248107\n",
            "r2: 0.834202\n",
            "+------------------+---------+--------------------+\n",
            "|        prediction|SalePrice|        features_top|\n",
            "+------------------+---------+--------------------+\n",
            "| 92104.47035764693|   112000|[5.0,1302.0,1.0,2...|\n",
            "| 108228.3070478416|    89500|[6.0,987.0,1.0,26...|\n",
            "|117990.91180360178|   118000|[6.0,1218.0,1.0,2...|\n",
            "| 117294.2318531957|   118000|[6.0,987.0,1.0,26...|\n",
            "| 118428.1946652662|   113000|[6.0,1218.0,1.0,2...|\n",
            "+------------------+---------+--------------------+\n",
            "only showing top 5 rows\n",
            "\n",
            "R Squared (R2) on val data = 0.769067\n"
          ]
        }
      ]
    },
    {
      "cell_type": "code",
      "source": [
        "train_feat"
      ],
      "metadata": {
        "id": "5TPLGKOKETC5",
        "colab": {
          "base_uri": "https://localhost:8080/"
        },
        "outputId": "d292855f-bf47-4e2f-a3a3-2cb553a83a44"
      },
      "execution_count": null,
      "outputs": [
        {
          "output_type": "execute_result",
          "data": {
            "text/plain": [
              "['LotArea',\n",
              " 'LotShape',\n",
              " 'Utilities',\n",
              " 'LandSlope',\n",
              " 'OverallQual',\n",
              " 'OverallCond',\n",
              " 'YearBuilt',\n",
              " 'YearRemodAdd',\n",
              " 'MasVnrArea',\n",
              " 'ExterQual',\n",
              " 'ExterCond',\n",
              " 'BsmtQual',\n",
              " 'BsmtCond',\n",
              " 'BsmtExposure',\n",
              " 'BsmtFinType1',\n",
              " 'BsmtFinSF1',\n",
              " 'BsmtFinType2',\n",
              " 'BsmtFinSF2',\n",
              " 'BsmtUnfSF',\n",
              " 'TotalBsmtSF',\n",
              " 'HeatingQC',\n",
              " 'CentralAir',\n",
              " 'Electrical',\n",
              " '1stFlrSF',\n",
              " '2ndFlrSF',\n",
              " 'LowQualFinSF',\n",
              " 'GrLivArea',\n",
              " 'BsmtFullBath',\n",
              " 'BsmtHalfBath',\n",
              " 'FullBath',\n",
              " 'HalfBath',\n",
              " 'BedroomAbvGr',\n",
              " 'KitchenAbvGr',\n",
              " 'KitchenQual',\n",
              " 'TotRmsAbvGrd',\n",
              " 'Functional',\n",
              " 'Fireplaces',\n",
              " 'GarageYrBlt',\n",
              " 'GarageFinish',\n",
              " 'GarageCars',\n",
              " 'GarageArea',\n",
              " 'GarageQual',\n",
              " 'GarageCond',\n",
              " 'PavedDrive',\n",
              " 'WoodDeckSF',\n",
              " 'OpenPorchSF',\n",
              " 'EnclosedPorch',\n",
              " '3SsnPorch',\n",
              " 'ScreenPorch',\n",
              " 'PoolArea',\n",
              " 'MiscVal',\n",
              " 'MoSold',\n",
              " 'YrSold',\n",
              " 'SalePrice',\n",
              " 'Neighborhood_avg',\n",
              " 'Exterior1st_avg',\n",
              " 'Exterior2nd_avg',\n",
              " 'MSSubClass_index',\n",
              " 'MSZoning_index',\n",
              " 'Street_index',\n",
              " 'LandContour_index',\n",
              " 'LotConfig_index',\n",
              " 'Condition1_index',\n",
              " 'Condition2_index',\n",
              " 'BldgType_index',\n",
              " 'HouseStyle_index',\n",
              " 'RoofStyle_index',\n",
              " 'RoofMatl_index',\n",
              " 'MasVnrType_index',\n",
              " 'Foundation_index',\n",
              " 'Heating_index',\n",
              " 'GarageType_index',\n",
              " 'SaleType_index',\n",
              " 'SaleCondition_index']"
            ]
          },
          "metadata": {},
          "execution_count": 48
        }
      ]
    },
    {
      "cell_type": "code",
      "source": [
        "from pyspark.ml.regression import GBTRegressor\n",
        "\n",
        "gbt=GBTRegressor(featuresCol='features',labelCol=\"SalePrice\",maxIter=20,)\n",
        "gbt_model=gbt.fit(train)\n",
        "\n",
        "\n"
      ],
      "metadata": {
        "id": "rYyMNPQXDyUj"
      },
      "execution_count": null,
      "outputs": []
    },
    {
      "cell_type": "code",
      "source": [
        "transform_df = gbt_model.transform(val)\n",
        "evaluator = RegressionEvaluator(labelCol='SalePrice', metricName=\"r2\")\n",
        "print(\"R2: \", evaluator.evaluate(transform_df))"
      ],
      "metadata": {
        "colab": {
          "base_uri": "https://localhost:8080/"
        },
        "id": "2M6V-hqJLagx",
        "outputId": "db3d0313-6a78-4105-cb66-61152bdef851"
      },
      "execution_count": null,
      "outputs": [
        {
          "output_type": "stream",
          "name": "stdout",
          "text": [
            "R2:  0.6611250799446691\n"
          ]
        }
      ]
    },
    {
      "cell_type": "code",
      "source": [
        "from itertools import chain\n",
        "\n",
        "attrs = sorted(\n",
        "    (attr[\"idx\"], attr[\"name\"])\n",
        "    for attr in (\n",
        "        chain(*train.schema[\"features\"].metadata[\"ml_attr\"][\"attrs\"].values())\n",
        "    )\n",
        ") "
      ],
      "metadata": {
        "id": "P6prGArfLqvp"
      },
      "execution_count": null,
      "outputs": []
    },
    {
      "cell_type": "code",
      "source": [
        "imp=dict(([\n",
        "    (name, float(gbt_model.featureImportances[idx]))\n",
        "    for idx, name in attrs\n",
        "    if gbt_model.featureImportances[idx]\n",
        "]))\n",
        "sortedimp=dict(sorted(imp.items(), key=lambda item: item[1]))\n",
        "sortedimp"
      ],
      "metadata": {
        "colab": {
          "base_uri": "https://localhost:8080/"
        },
        "id": "WXvccDOZLydo",
        "outputId": "bf14b72a-b3dd-4475-c44b-a2dd6e2d0a2e"
      },
      "execution_count": null,
      "outputs": [
        {
          "output_type": "execute_result",
          "data": {
            "text/plain": [
              "{'FullBath': 0.0001382729135104368,\n",
              " 'BsmtFinType2': 0.00029944291763050925,\n",
              " 'GarageQual': 0.00029948385168035045,\n",
              " 'KitchenAbvGr': 0.00042159979266007466,\n",
              " 'BsmtFinSF2': 0.00046212120480987703,\n",
              " 'LowQualFinSF': 0.0005030758283358119,\n",
              " 'LandSlope': 0.0005086627824389398,\n",
              " 'Foundation_index': 0.0005415424956469852,\n",
              " 'Heating_index': 0.0006461191426258781,\n",
              " 'PoolArea': 0.0008142556118810565,\n",
              " 'BldgType_index': 0.0010150271134096072,\n",
              " 'Condition2_index': 0.0011466177421893132,\n",
              " 'HeatingQC': 0.0014373091423709107,\n",
              " 'MSZoning_index': 0.001503849313372143,\n",
              " 'GarageFinish': 0.001659045093000042,\n",
              " 'Fireplaces': 0.0017372043713623473,\n",
              " 'HalfBath': 0.001824535957721411,\n",
              " 'YrSold': 0.0019691133319437973,\n",
              " 'Exterior2nd_avg': 0.0022078786272905987,\n",
              " '3SsnPorch': 0.002391956497649659,\n",
              " 'Electrical': 0.002573686459303904,\n",
              " 'ExterCond': 0.0029409224223236117,\n",
              " 'RoofMatl_index': 0.003210069493787147,\n",
              " 'EnclosedPorch': 0.003280590800646734,\n",
              " 'BedroomAbvGr': 0.003429270761034196,\n",
              " 'GarageType_index': 0.004263844902958661,\n",
              " 'LotShape': 0.004574097007625893,\n",
              " 'LotConfig_index': 0.004646969059847846,\n",
              " 'MasVnrArea': 0.004939921024143523,\n",
              " 'BsmtCond': 0.005002046045241421,\n",
              " 'Exterior1st_avg': 0.005248584182473849,\n",
              " 'KitchenQual': 0.006207576699081395,\n",
              " 'LandContour_index': 0.006222583158603049,\n",
              " 'Functional': 0.006786296065707487,\n",
              " 'MasVnrType_index': 0.007095196696310987,\n",
              " 'YearBuilt': 0.007637897515098512,\n",
              " 'Condition1_index': 0.007929007156469834,\n",
              " 'BsmtFullBath': 0.00805550254664326,\n",
              " '2ndFlrSF': 0.008212881636345305,\n",
              " 'ScreenPorch': 0.009140139641081098,\n",
              " 'ExterQual': 0.009950183946432593,\n",
              " 'RoofStyle_index': 0.010269912580041082,\n",
              " 'BsmtQual': 0.010458972994326377,\n",
              " 'BsmtExposure': 0.010644303456519354,\n",
              " 'BsmtUnfSF': 0.01064456145944509,\n",
              " 'OverallCond': 0.011071614244547568,\n",
              " 'GarageYrBlt': 0.011095572818560781,\n",
              " 'TotRmsAbvGrd': 0.011111112486498638,\n",
              " 'HouseStyle_index': 0.011116084390742185,\n",
              " 'MoSold': 0.011131952791797494,\n",
              " 'OpenPorchSF': 0.011336402374989153,\n",
              " 'BsmtFinType1': 0.0115142484186593,\n",
              " 'GarageCars': 0.012712278687589455,\n",
              " 'GarageArea': 0.015151142916450751,\n",
              " 'BsmtFinSF1': 0.015526975724885516,\n",
              " 'SaleType_index': 0.016723230919608117,\n",
              " 'YearRemodAdd': 0.01684108786677557,\n",
              " 'WoodDeckSF': 0.019015783430582245,\n",
              " 'SaleCondition_index': 0.01950901124530097,\n",
              " '1stFlrSF': 0.019966916208382337,\n",
              " 'LotArea': 0.02649378751485279,\n",
              " 'MSSubClass_index': 0.030715792479837706,\n",
              " 'TotalBsmtSF': 0.03595714073851744,\n",
              " 'GrLivArea': 0.0643300607037336,\n",
              " 'Neighborhood_avg': 0.10045645344181311,\n",
              " 'OverallQual': 0.34333121915285336}"
            ]
          },
          "metadata": {},
          "execution_count": 52
        }
      ]
    },
    {
      "cell_type": "markdown",
      "source": [
        "### RANDOM FOREST PART"
      ],
      "metadata": {
        "id": "SfPU4BzGPSyN"
      }
    },
    {
      "cell_type": "code",
      "source": [
        "# A more complex model with RF\n",
        "\n",
        "from pyspark.ml.regression import RandomForestRegressor\n",
        "\n",
        "rf = RandomForestRegressor(featuresCol = 'features', labelCol='SalePrice', \n",
        "                           maxDepth=20, \n",
        "                           minInstancesPerNode=2,\n",
        "                           bootstrap=True\n",
        "                          )\n",
        "rf_model = rf.fit(train)\n",
        "\n",
        "rf_predictions = rf_model.transform(val)\n",
        "rf_predictions.select(\"prediction\",\"SalePrice\",\"features\").show(5)\n",
        "\n",
        "from pyspark.ml.evaluation import RegressionEvaluator\n",
        "rf_evaluator = RegressionEvaluator(predictionCol=\"prediction\", \\\n",
        "                 labelCol=\"SalePrice\",metricName=\"r2\")\n",
        "print(\"R Squared (R2) on val data = %g\" % rf_evaluator.evaluate(rf_predictions))"
      ],
      "metadata": {
        "id": "I3WvJMUaPSBn",
        "colab": {
          "base_uri": "https://localhost:8080/"
        },
        "outputId": "1f847968-4fa1-4387-9cd3-a2dc013878f0"
      },
      "execution_count": null,
      "outputs": [
        {
          "output_type": "stream",
          "name": "stdout",
          "text": [
            "+------------------+---------+--------------------+\n",
            "|        prediction|SalePrice|            features|\n",
            "+------------------+---------+--------------------+\n",
            "|144776.51666666666|   124000|[1300.0,0.0,3.0,0...|\n",
            "|          90543.05|    80000|(73,[0,2,4,5,6,7,...|\n",
            "| 86006.24999999999|    75500|(73,[0,2,4,5,6,7,...|\n",
            "| 98100.41666666666|    86000|(73,[0,2,4,5,6,7,...|\n",
            "|109720.70952380952|   112000|[1680.0,0.0,3.0,0...|\n",
            "+------------------+---------+--------------------+\n",
            "only showing top 5 rows\n",
            "\n",
            "R Squared (R2) on val data = 0.821869\n"
          ]
        }
      ]
    },
    {
      "cell_type": "code",
      "source": [
        "from itertools import chain\n",
        "\n",
        "attrs = sorted(\n",
        "    (attr[\"idx\"], attr[\"name\"])\n",
        "    for attr in (\n",
        "        chain(*train.schema[\"features\"].metadata[\"ml_attr\"][\"attrs\"].values())\n",
        "    )\n",
        ") "
      ],
      "metadata": {
        "id": "hHZlBPBsuH30"
      },
      "execution_count": null,
      "outputs": []
    },
    {
      "cell_type": "code",
      "source": [
        "imp=dict(([\n",
        "    (name, float(rf_model.featureImportances[idx]))\n",
        "    for idx, name in attrs\n",
        "    if gbt_model.featureImportances[idx]\n",
        "]))\n",
        "sortedimp=dict(sorted(imp.items(), key=lambda item: item[1]))\n",
        "sortedimp"
      ],
      "metadata": {
        "colab": {
          "base_uri": "https://localhost:8080/"
        },
        "outputId": "6b304104-5bf9-400e-eca3-56ca27d582a7",
        "id": "M6Mv43sUuH30"
      },
      "execution_count": null,
      "outputs": [
        {
          "output_type": "execute_result",
          "data": {
            "text/plain": [
              "{'Condition2_index': 1.9469942710846256e-06,\n",
              " 'LowQualFinSF': 6.38470079646328e-05,\n",
              " 'RoofMatl_index': 0.00012719258036852015,\n",
              " 'Electrical': 0.0001293458108786041,\n",
              " 'Functional': 0.00018975235631349255,\n",
              " '3SsnPorch': 0.00022377453694333253,\n",
              " 'BldgType_index': 0.0002559659112542749,\n",
              " 'PoolArea': 0.0002648739075044934,\n",
              " 'ScreenPorch': 0.00031921096969570714,\n",
              " 'BsmtFinType2': 0.0003513536697686329,\n",
              " 'KitchenAbvGr': 0.000367421297093308,\n",
              " 'EnclosedPorch': 0.0004278039042383659,\n",
              " 'Heating_index': 0.0004363016057028966,\n",
              " 'Foundation_index': 0.0004897444998573427,\n",
              " 'Condition1_index': 0.0005534244776489693,\n",
              " 'ExterCond': 0.0005634447129286786,\n",
              " 'HeatingQC': 0.0005854598937407083,\n",
              " 'BsmtFinSF2': 0.0006101041546998557,\n",
              " 'BsmtCond': 0.0006913883747856872,\n",
              " 'GarageQual': 0.0007415915410636255,\n",
              " 'HouseStyle_index': 0.0010251402838377614,\n",
              " 'LandSlope': 0.0010328357135781366,\n",
              " 'MasVnrType_index': 0.0012993539089542988,\n",
              " 'YrSold': 0.0013575905041198718,\n",
              " 'BsmtFullBath': 0.0016145948972585537,\n",
              " 'MSZoning_index': 0.0016379691889093113,\n",
              " 'Exterior1st_avg': 0.0017657800904864755,\n",
              " 'LotConfig_index': 0.0019498808614257668,\n",
              " 'LotShape': 0.002061804384775563,\n",
              " 'BsmtFinType1': 0.002214444473083565,\n",
              " 'SaleType_index': 0.0022469870484521114,\n",
              " 'RoofStyle_index': 0.002307382489986088,\n",
              " 'BedroomAbvGr': 0.00266219534043844,\n",
              " 'Fireplaces': 0.002773403400858687,\n",
              " 'MoSold': 0.0028079678055664132,\n",
              " 'SaleCondition_index': 0.002915673516401719,\n",
              " 'BsmtUnfSF': 0.0030460867261094694,\n",
              " 'OpenPorchSF': 0.0037280968418712027,\n",
              " 'Exterior2nd_avg': 0.003740330992348981,\n",
              " 'YearRemodAdd': 0.003789108822279852,\n",
              " 'LandContour_index': 0.004133651717863378,\n",
              " 'OverallCond': 0.004186636970970635,\n",
              " 'WoodDeckSF': 0.004282437960341974,\n",
              " 'GarageFinish': 0.004347469383868363,\n",
              " 'HalfBath': 0.004714988199348112,\n",
              " 'GarageType_index': 0.005104025266359889,\n",
              " 'BsmtExposure': 0.005620605193484311,\n",
              " 'MasVnrArea': 0.00776523734588064,\n",
              " 'MSSubClass_index': 0.013123706191973556,\n",
              " '2ndFlrSF': 0.01581873687723854,\n",
              " 'FullBath': 0.017129646911986613,\n",
              " 'GarageYrBlt': 0.020011887596647345,\n",
              " 'BsmtFinSF1': 0.021774102113708924,\n",
              " 'TotRmsAbvGrd': 0.023355536446011193,\n",
              " 'KitchenQual': 0.023861451060867844,\n",
              " 'YearBuilt': 0.024481872527079517,\n",
              " 'LotArea': 0.02541170958506961,\n",
              " 'TotalBsmtSF': 0.025745698989213472,\n",
              " 'GarageArea': 0.029773421130694873,\n",
              " 'BsmtQual': 0.04334552423818353,\n",
              " '1stFlrSF': 0.043807388337541865,\n",
              " 'Neighborhood_avg': 0.07982101950387616,\n",
              " 'GrLivArea': 0.08100796440317717,\n",
              " 'GarageCars': 0.08169078104937237,\n",
              " 'ExterQual': 0.09018260312348723,\n",
              " 'OverallQual': 0.24427675328204734}"
            ]
          },
          "metadata": {},
          "execution_count": 55
        }
      ]
    }
  ]
}